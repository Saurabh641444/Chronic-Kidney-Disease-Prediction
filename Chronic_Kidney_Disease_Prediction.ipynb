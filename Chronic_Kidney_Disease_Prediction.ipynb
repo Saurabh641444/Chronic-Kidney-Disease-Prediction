{
  "nbformat": 4,
  "nbformat_minor": 0,
  "metadata": {
    "accelerator": "GPU",
    "colab": {
      "name": "Chronic-Kidney-Disease-Prediction.ipynb",
      "provenance": []
    },
    "kernelspec": {
      "display_name": "Python 3",
      "name": "python3"
    },
    "language_info": {
      "name": "python"
    }
  },
  "cells": [
    {
      "cell_type": "markdown",
      "metadata": {
        "id": "7_CiY_64d9e4"
      },
      "source": [
        "# Importing the libraries"
      ]
    },
    {
      "cell_type": "code",
      "metadata": {
        "id": "0fjH31Bdd8By"
      },
      "source": [
        "import numpy as np\n",
        "import matplotlib.pyplot as plt\n",
        "import numpy as np\n",
        "import seaborn as sns\n",
        "import pandas as pd\n"
      ],
      "execution_count": null,
      "outputs": []
    },
    {
      "cell_type": "markdown",
      "metadata": {
        "id": "SDloSavXgODN"
      },
      "source": [
        "**From displaying all features of dataset**"
      ]
    },
    {
      "cell_type": "code",
      "metadata": {
        "id": "i91MxwxhgNgJ"
      },
      "source": [
        "pd.pandas.set_option('display.max_columns', None)"
      ],
      "execution_count": null,
      "outputs": []
    },
    {
      "cell_type": "code",
      "metadata": {
        "colab": {
          "base_uri": "https://localhost:8080/",
          "height": 223
        },
        "id": "m0QexAuQictI",
        "outputId": "3d96abd1-300e-4f13-ee42-b8a79368732d"
      },
      "source": [
        "\n",
        "# Reading Dataset:\n",
        "dataset = pd.read_csv(\"Kidney_data.csv\")\n",
        "# Top 5 records:\n",
        "dataset.head()"
      ],
      "execution_count": null,
      "outputs": [
        {
          "output_type": "execute_result",
          "data": {
            "text/html": [
              "<div>\n",
              "<style scoped>\n",
              "    .dataframe tbody tr th:only-of-type {\n",
              "        vertical-align: middle;\n",
              "    }\n",
              "\n",
              "    .dataframe tbody tr th {\n",
              "        vertical-align: top;\n",
              "    }\n",
              "\n",
              "    .dataframe thead th {\n",
              "        text-align: right;\n",
              "    }\n",
              "</style>\n",
              "<table border=\"1\" class=\"dataframe\">\n",
              "  <thead>\n",
              "    <tr style=\"text-align: right;\">\n",
              "      <th></th>\n",
              "      <th>id</th>\n",
              "      <th>age</th>\n",
              "      <th>bp</th>\n",
              "      <th>sg</th>\n",
              "      <th>al</th>\n",
              "      <th>su</th>\n",
              "      <th>rbc</th>\n",
              "      <th>pc</th>\n",
              "      <th>pcc</th>\n",
              "      <th>ba</th>\n",
              "      <th>bgr</th>\n",
              "      <th>bu</th>\n",
              "      <th>sc</th>\n",
              "      <th>sod</th>\n",
              "      <th>pot</th>\n",
              "      <th>hemo</th>\n",
              "      <th>pcv</th>\n",
              "      <th>wc</th>\n",
              "      <th>rc</th>\n",
              "      <th>htn</th>\n",
              "      <th>dm</th>\n",
              "      <th>cad</th>\n",
              "      <th>appet</th>\n",
              "      <th>pe</th>\n",
              "      <th>ane</th>\n",
              "      <th>classification</th>\n",
              "    </tr>\n",
              "  </thead>\n",
              "  <tbody>\n",
              "    <tr>\n",
              "      <th>0</th>\n",
              "      <td>0</td>\n",
              "      <td>48.0</td>\n",
              "      <td>80.0</td>\n",
              "      <td>1.020</td>\n",
              "      <td>1.0</td>\n",
              "      <td>0.0</td>\n",
              "      <td>NaN</td>\n",
              "      <td>normal</td>\n",
              "      <td>notpresent</td>\n",
              "      <td>notpresent</td>\n",
              "      <td>121.0</td>\n",
              "      <td>36.0</td>\n",
              "      <td>1.2</td>\n",
              "      <td>NaN</td>\n",
              "      <td>NaN</td>\n",
              "      <td>15.4</td>\n",
              "      <td>44</td>\n",
              "      <td>7800</td>\n",
              "      <td>5.2</td>\n",
              "      <td>yes</td>\n",
              "      <td>yes</td>\n",
              "      <td>no</td>\n",
              "      <td>good</td>\n",
              "      <td>no</td>\n",
              "      <td>no</td>\n",
              "      <td>ckd</td>\n",
              "    </tr>\n",
              "    <tr>\n",
              "      <th>1</th>\n",
              "      <td>1</td>\n",
              "      <td>7.0</td>\n",
              "      <td>50.0</td>\n",
              "      <td>1.020</td>\n",
              "      <td>4.0</td>\n",
              "      <td>0.0</td>\n",
              "      <td>NaN</td>\n",
              "      <td>normal</td>\n",
              "      <td>notpresent</td>\n",
              "      <td>notpresent</td>\n",
              "      <td>NaN</td>\n",
              "      <td>18.0</td>\n",
              "      <td>0.8</td>\n",
              "      <td>NaN</td>\n",
              "      <td>NaN</td>\n",
              "      <td>11.3</td>\n",
              "      <td>38</td>\n",
              "      <td>6000</td>\n",
              "      <td>NaN</td>\n",
              "      <td>no</td>\n",
              "      <td>no</td>\n",
              "      <td>no</td>\n",
              "      <td>good</td>\n",
              "      <td>no</td>\n",
              "      <td>no</td>\n",
              "      <td>ckd</td>\n",
              "    </tr>\n",
              "    <tr>\n",
              "      <th>2</th>\n",
              "      <td>2</td>\n",
              "      <td>62.0</td>\n",
              "      <td>80.0</td>\n",
              "      <td>1.010</td>\n",
              "      <td>2.0</td>\n",
              "      <td>3.0</td>\n",
              "      <td>normal</td>\n",
              "      <td>normal</td>\n",
              "      <td>notpresent</td>\n",
              "      <td>notpresent</td>\n",
              "      <td>423.0</td>\n",
              "      <td>53.0</td>\n",
              "      <td>1.8</td>\n",
              "      <td>NaN</td>\n",
              "      <td>NaN</td>\n",
              "      <td>9.6</td>\n",
              "      <td>31</td>\n",
              "      <td>7500</td>\n",
              "      <td>NaN</td>\n",
              "      <td>no</td>\n",
              "      <td>yes</td>\n",
              "      <td>no</td>\n",
              "      <td>poor</td>\n",
              "      <td>no</td>\n",
              "      <td>yes</td>\n",
              "      <td>ckd</td>\n",
              "    </tr>\n",
              "    <tr>\n",
              "      <th>3</th>\n",
              "      <td>3</td>\n",
              "      <td>48.0</td>\n",
              "      <td>70.0</td>\n",
              "      <td>1.005</td>\n",
              "      <td>4.0</td>\n",
              "      <td>0.0</td>\n",
              "      <td>normal</td>\n",
              "      <td>abnormal</td>\n",
              "      <td>present</td>\n",
              "      <td>notpresent</td>\n",
              "      <td>117.0</td>\n",
              "      <td>56.0</td>\n",
              "      <td>3.8</td>\n",
              "      <td>111.0</td>\n",
              "      <td>2.5</td>\n",
              "      <td>11.2</td>\n",
              "      <td>32</td>\n",
              "      <td>6700</td>\n",
              "      <td>3.9</td>\n",
              "      <td>yes</td>\n",
              "      <td>no</td>\n",
              "      <td>no</td>\n",
              "      <td>poor</td>\n",
              "      <td>yes</td>\n",
              "      <td>yes</td>\n",
              "      <td>ckd</td>\n",
              "    </tr>\n",
              "    <tr>\n",
              "      <th>4</th>\n",
              "      <td>4</td>\n",
              "      <td>51.0</td>\n",
              "      <td>80.0</td>\n",
              "      <td>1.010</td>\n",
              "      <td>2.0</td>\n",
              "      <td>0.0</td>\n",
              "      <td>normal</td>\n",
              "      <td>normal</td>\n",
              "      <td>notpresent</td>\n",
              "      <td>notpresent</td>\n",
              "      <td>106.0</td>\n",
              "      <td>26.0</td>\n",
              "      <td>1.4</td>\n",
              "      <td>NaN</td>\n",
              "      <td>NaN</td>\n",
              "      <td>11.6</td>\n",
              "      <td>35</td>\n",
              "      <td>7300</td>\n",
              "      <td>4.6</td>\n",
              "      <td>no</td>\n",
              "      <td>no</td>\n",
              "      <td>no</td>\n",
              "      <td>good</td>\n",
              "      <td>no</td>\n",
              "      <td>no</td>\n",
              "      <td>ckd</td>\n",
              "    </tr>\n",
              "  </tbody>\n",
              "</table>\n",
              "</div>"
            ],
            "text/plain": [
              "   id   age    bp     sg   al   su     rbc        pc         pcc          ba  \\\n",
              "0   0  48.0  80.0  1.020  1.0  0.0     NaN    normal  notpresent  notpresent   \n",
              "1   1   7.0  50.0  1.020  4.0  0.0     NaN    normal  notpresent  notpresent   \n",
              "2   2  62.0  80.0  1.010  2.0  3.0  normal    normal  notpresent  notpresent   \n",
              "3   3  48.0  70.0  1.005  4.0  0.0  normal  abnormal     present  notpresent   \n",
              "4   4  51.0  80.0  1.010  2.0  0.0  normal    normal  notpresent  notpresent   \n",
              "\n",
              "     bgr    bu   sc    sod  pot  hemo pcv    wc   rc  htn   dm cad appet   pe  \\\n",
              "0  121.0  36.0  1.2    NaN  NaN  15.4  44  7800  5.2  yes  yes  no  good   no   \n",
              "1    NaN  18.0  0.8    NaN  NaN  11.3  38  6000  NaN   no   no  no  good   no   \n",
              "2  423.0  53.0  1.8    NaN  NaN   9.6  31  7500  NaN   no  yes  no  poor   no   \n",
              "3  117.0  56.0  3.8  111.0  2.5  11.2  32  6700  3.9  yes   no  no  poor  yes   \n",
              "4  106.0  26.0  1.4    NaN  NaN  11.6  35  7300  4.6   no   no  no  good   no   \n",
              "\n",
              "   ane classification  \n",
              "0   no            ckd  \n",
              "1   no            ckd  \n",
              "2  yes            ckd  \n",
              "3  yes            ckd  \n",
              "4   no            ckd  "
            ]
          },
          "metadata": {},
          "execution_count": 3
        }
      ]
    },
    {
      "cell_type": "markdown",
      "metadata": {
        "id": "1NvfS7Nzjn-_"
      },
      "source": [
        "\n",
        "**Data Set Information**\n",
        "\n",
        "We use the following representation to collect the dataset\n",
        "\n",
        "age - age\n",
        "\n",
        "bp - blood pressure\n",
        "\n",
        "sg - specific gravity\n",
        "\n",
        "al - albumin\n",
        "\n",
        "su - sugar\n",
        "\n",
        "rbc - red blood cells\n",
        "\n",
        "pc - pus cell\n",
        "\n",
        "pcc - pus cell clumps\n",
        "\n",
        "ba - bacteria\n",
        "\n",
        "bgr - blood glucose random\n",
        "\n",
        "bu - blood urea\n",
        "\n",
        "sc - serum creatinine\n",
        "\n",
        "sod - sodium\n",
        "\n",
        "pot - potassium\n",
        "\n",
        "hemo - hemoglobin\n",
        "\n",
        "pcv - packed cell volume\n",
        "\n",
        "wc - white blood cell count\n",
        "\n",
        "rc - red blood cell count\n",
        "\n",
        "htn - hypertension\n",
        "\n",
        "dm - diabetes mellitus\n",
        "\n",
        "cad - coronary artery disease\n",
        "\n",
        "appet - appetite\n",
        "\n",
        "pe - pedal edema\n",
        "\n",
        "ane - anemia\n",
        "\n",
        "class - class\n",
        "\n",
        "**Attribute Information:**\n",
        "\n",
        "We use 24 + class = 25 ( 11 numeric ,14 nominal)\n",
        "\n",
        "Age(numerical) age in years\n",
        "\n",
        "Blood Pressure(numerical) bp in mm/Hg\n",
        "\n",
        "Specific Gravity(nominal) sg - (1.005,1.010,1.015,1.020,1.025)\n",
        "\n",
        "Albumin(nominal) al - (0,1,2,3,4,5)\n",
        "\n",
        "Sugar(nominal) su - (0,1,2,3,4,5)\n",
        "\n",
        "Red Blood Cells(nominal) rbc - (normal,abnormal)\n",
        "\n",
        "Pus Cell (nominal) pc - (normal,abnormal)\n",
        "\n",
        "Pus Cell clumps(nominal) pcc - (present,notpresent)\n",
        "\n",
        "Bacteria(nominal) ba - (present,notpresent)\n",
        "\n",
        "Blood Glucose Random(numerical) bgr in mgs/dl\n",
        "\n",
        "Blood Urea(numerical) bu in mgs/dl\n",
        "\n",
        "Serum Creatinine(numerical) sc in mgs/dl\n",
        "\n",
        "Sodium(numerical) sod in mEq/L\n",
        "\n",
        "Potassium(numerical) pot in mEq/L\n",
        "\n",
        "Hemoglobin(numerical) hemo in gms\n",
        "\n",
        "Packed Cell Volume(numerical)\n",
        "\n",
        "White Blood Cell Count(numerical) wc in cells/cumm\n",
        "\n",
        "Red Blood Cell Count(numerical) rc in millions/cmm\n",
        "\n",
        "Hypertension(nominal) htn - (yes,no)\n",
        "\n",
        "Diabetes Mellitus(nominal) dm - (yes,no)\n",
        "\n",
        "Coronary Artery Disease(nominal) cad - (yes,no)\n",
        "\n",
        "Appetite(nominal) appet - (good,poor)\n",
        "\n",
        "Pedal Edema(nominal) pe - (yes,no)\n",
        "\n",
        "Anemia(nominal) ane - (yes,no)\n",
        "\n",
        "Class (nominal) class - (ckd,notckd)"
      ]
    },
    {
      "cell_type": "code",
      "metadata": {
        "id": "EO8t67rwulix"
      },
      "source": [
        "# Dropping unneccsary feature :\n",
        "dataset = dataset.drop('id', axis=1)"
      ],
      "execution_count": null,
      "outputs": []
    },
    {
      "cell_type": "code",
      "metadata": {
        "colab": {
          "base_uri": "https://localhost:8080/"
        },
        "id": "QHxvNsrNuqGB",
        "outputId": "18e877b9-e43b-4ca9-93f1-c9958919c6ab"
      },
      "source": [
        "# Shape of dataset:\n",
        "dataset.shape"
      ],
      "execution_count": null,
      "outputs": [
        {
          "output_type": "execute_result",
          "data": {
            "text/plain": [
              "(400, 25)"
            ]
          },
          "metadata": {},
          "execution_count": 5
        }
      ]
    },
    {
      "cell_type": "code",
      "metadata": {
        "colab": {
          "base_uri": "https://localhost:8080/"
        },
        "id": "gGbuDyNGusmS",
        "outputId": "0a3ca5ce-1edb-4aad-ddf3-7a9c57e30253"
      },
      "source": [
        "\n",
        "# Cheaking Missing (NaN) Values:\n",
        "dataset.isnull().sum()"
      ],
      "execution_count": null,
      "outputs": [
        {
          "output_type": "execute_result",
          "data": {
            "text/plain": [
              "age                 9\n",
              "bp                 12\n",
              "sg                 47\n",
              "al                 46\n",
              "su                 49\n",
              "rbc               152\n",
              "pc                 65\n",
              "pcc                 4\n",
              "ba                  4\n",
              "bgr                44\n",
              "bu                 19\n",
              "sc                 17\n",
              "sod                87\n",
              "pot                88\n",
              "hemo               52\n",
              "pcv                70\n",
              "wc                105\n",
              "rc                130\n",
              "htn                 2\n",
              "dm                  2\n",
              "cad                 2\n",
              "appet               1\n",
              "pe                  1\n",
              "ane                 1\n",
              "classification      0\n",
              "dtype: int64"
            ]
          },
          "metadata": {},
          "execution_count": 6
        }
      ]
    },
    {
      "cell_type": "code",
      "metadata": {
        "id": "kHpoHl68kYeg",
        "colab": {
          "base_uri": "https://localhost:8080/",
          "height": 295
        },
        "outputId": "c2d8b43e-3376-4fdc-c1f3-a0f47afffb50"
      },
      "source": [
        "\n",
        "\n",
        "# Description:\n",
        "dataset.describe()"
      ],
      "execution_count": null,
      "outputs": [
        {
          "output_type": "execute_result",
          "data": {
            "text/html": [
              "<div>\n",
              "<style scoped>\n",
              "    .dataframe tbody tr th:only-of-type {\n",
              "        vertical-align: middle;\n",
              "    }\n",
              "\n",
              "    .dataframe tbody tr th {\n",
              "        vertical-align: top;\n",
              "    }\n",
              "\n",
              "    .dataframe thead th {\n",
              "        text-align: right;\n",
              "    }\n",
              "</style>\n",
              "<table border=\"1\" class=\"dataframe\">\n",
              "  <thead>\n",
              "    <tr style=\"text-align: right;\">\n",
              "      <th></th>\n",
              "      <th>age</th>\n",
              "      <th>bp</th>\n",
              "      <th>sg</th>\n",
              "      <th>al</th>\n",
              "      <th>su</th>\n",
              "      <th>bgr</th>\n",
              "      <th>bu</th>\n",
              "      <th>sc</th>\n",
              "      <th>sod</th>\n",
              "      <th>pot</th>\n",
              "      <th>hemo</th>\n",
              "    </tr>\n",
              "  </thead>\n",
              "  <tbody>\n",
              "    <tr>\n",
              "      <th>count</th>\n",
              "      <td>391.000000</td>\n",
              "      <td>388.000000</td>\n",
              "      <td>353.000000</td>\n",
              "      <td>354.000000</td>\n",
              "      <td>351.000000</td>\n",
              "      <td>356.000000</td>\n",
              "      <td>381.000000</td>\n",
              "      <td>383.000000</td>\n",
              "      <td>313.000000</td>\n",
              "      <td>312.000000</td>\n",
              "      <td>348.000000</td>\n",
              "    </tr>\n",
              "    <tr>\n",
              "      <th>mean</th>\n",
              "      <td>51.483376</td>\n",
              "      <td>76.469072</td>\n",
              "      <td>1.017408</td>\n",
              "      <td>1.016949</td>\n",
              "      <td>0.450142</td>\n",
              "      <td>148.036517</td>\n",
              "      <td>57.425722</td>\n",
              "      <td>3.072454</td>\n",
              "      <td>137.528754</td>\n",
              "      <td>4.627244</td>\n",
              "      <td>12.526437</td>\n",
              "    </tr>\n",
              "    <tr>\n",
              "      <th>std</th>\n",
              "      <td>17.169714</td>\n",
              "      <td>13.683637</td>\n",
              "      <td>0.005717</td>\n",
              "      <td>1.352679</td>\n",
              "      <td>1.099191</td>\n",
              "      <td>79.281714</td>\n",
              "      <td>50.503006</td>\n",
              "      <td>5.741126</td>\n",
              "      <td>10.408752</td>\n",
              "      <td>3.193904</td>\n",
              "      <td>2.912587</td>\n",
              "    </tr>\n",
              "    <tr>\n",
              "      <th>min</th>\n",
              "      <td>2.000000</td>\n",
              "      <td>50.000000</td>\n",
              "      <td>1.005000</td>\n",
              "      <td>0.000000</td>\n",
              "      <td>0.000000</td>\n",
              "      <td>22.000000</td>\n",
              "      <td>1.500000</td>\n",
              "      <td>0.400000</td>\n",
              "      <td>4.500000</td>\n",
              "      <td>2.500000</td>\n",
              "      <td>3.100000</td>\n",
              "    </tr>\n",
              "    <tr>\n",
              "      <th>25%</th>\n",
              "      <td>42.000000</td>\n",
              "      <td>70.000000</td>\n",
              "      <td>1.010000</td>\n",
              "      <td>0.000000</td>\n",
              "      <td>0.000000</td>\n",
              "      <td>99.000000</td>\n",
              "      <td>27.000000</td>\n",
              "      <td>0.900000</td>\n",
              "      <td>135.000000</td>\n",
              "      <td>3.800000</td>\n",
              "      <td>10.300000</td>\n",
              "    </tr>\n",
              "    <tr>\n",
              "      <th>50%</th>\n",
              "      <td>55.000000</td>\n",
              "      <td>80.000000</td>\n",
              "      <td>1.020000</td>\n",
              "      <td>0.000000</td>\n",
              "      <td>0.000000</td>\n",
              "      <td>121.000000</td>\n",
              "      <td>42.000000</td>\n",
              "      <td>1.300000</td>\n",
              "      <td>138.000000</td>\n",
              "      <td>4.400000</td>\n",
              "      <td>12.650000</td>\n",
              "    </tr>\n",
              "    <tr>\n",
              "      <th>75%</th>\n",
              "      <td>64.500000</td>\n",
              "      <td>80.000000</td>\n",
              "      <td>1.020000</td>\n",
              "      <td>2.000000</td>\n",
              "      <td>0.000000</td>\n",
              "      <td>163.000000</td>\n",
              "      <td>66.000000</td>\n",
              "      <td>2.800000</td>\n",
              "      <td>142.000000</td>\n",
              "      <td>4.900000</td>\n",
              "      <td>15.000000</td>\n",
              "    </tr>\n",
              "    <tr>\n",
              "      <th>max</th>\n",
              "      <td>90.000000</td>\n",
              "      <td>180.000000</td>\n",
              "      <td>1.025000</td>\n",
              "      <td>5.000000</td>\n",
              "      <td>5.000000</td>\n",
              "      <td>490.000000</td>\n",
              "      <td>391.000000</td>\n",
              "      <td>76.000000</td>\n",
              "      <td>163.000000</td>\n",
              "      <td>47.000000</td>\n",
              "      <td>17.800000</td>\n",
              "    </tr>\n",
              "  </tbody>\n",
              "</table>\n",
              "</div>"
            ],
            "text/plain": [
              "              age          bp          sg          al          su         bgr  \\\n",
              "count  391.000000  388.000000  353.000000  354.000000  351.000000  356.000000   \n",
              "mean    51.483376   76.469072    1.017408    1.016949    0.450142  148.036517   \n",
              "std     17.169714   13.683637    0.005717    1.352679    1.099191   79.281714   \n",
              "min      2.000000   50.000000    1.005000    0.000000    0.000000   22.000000   \n",
              "25%     42.000000   70.000000    1.010000    0.000000    0.000000   99.000000   \n",
              "50%     55.000000   80.000000    1.020000    0.000000    0.000000  121.000000   \n",
              "75%     64.500000   80.000000    1.020000    2.000000    0.000000  163.000000   \n",
              "max     90.000000  180.000000    1.025000    5.000000    5.000000  490.000000   \n",
              "\n",
              "               bu          sc         sod         pot        hemo  \n",
              "count  381.000000  383.000000  313.000000  312.000000  348.000000  \n",
              "mean    57.425722    3.072454  137.528754    4.627244   12.526437  \n",
              "std     50.503006    5.741126   10.408752    3.193904    2.912587  \n",
              "min      1.500000    0.400000    4.500000    2.500000    3.100000  \n",
              "25%     27.000000    0.900000  135.000000    3.800000   10.300000  \n",
              "50%     42.000000    1.300000  138.000000    4.400000   12.650000  \n",
              "75%     66.000000    2.800000  142.000000    4.900000   15.000000  \n",
              "max    391.000000   76.000000  163.000000   47.000000   17.800000  "
            ]
          },
          "metadata": {},
          "execution_count": 7
        }
      ]
    },
    {
      "cell_type": "code",
      "metadata": {
        "colab": {
          "base_uri": "https://localhost:8080/"
        },
        "id": "FkPPnRjWkxvo",
        "outputId": "05934d87-5622-4285-e8af-32db16f70424"
      },
      "source": [
        "dataset.columns"
      ],
      "execution_count": null,
      "outputs": [
        {
          "output_type": "execute_result",
          "data": {
            "text/plain": [
              "Index(['age', 'bp', 'sg', 'al', 'su', 'rbc', 'pc', 'pcc', 'ba', 'bgr', 'bu',\n",
              "       'sc', 'sod', 'pot', 'hemo', 'pcv', 'wc', 'rc', 'htn', 'dm', 'cad',\n",
              "       'appet', 'pe', 'ane', 'classification'],\n",
              "      dtype='object')"
            ]
          },
          "metadata": {},
          "execution_count": 8
        }
      ]
    },
    {
      "cell_type": "code",
      "metadata": {
        "colab": {
          "base_uri": "https://localhost:8080/"
        },
        "id": "dWxvDMY2lfgv",
        "outputId": "cdb69e20-0e5e-4089-a23f-37c63cdc0c53"
      },
      "source": [
        "dataset.dtypes"
      ],
      "execution_count": null,
      "outputs": [
        {
          "output_type": "execute_result",
          "data": {
            "text/plain": [
              "age               float64\n",
              "bp                float64\n",
              "sg                float64\n",
              "al                float64\n",
              "su                float64\n",
              "rbc                object\n",
              "pc                 object\n",
              "pcc                object\n",
              "ba                 object\n",
              "bgr               float64\n",
              "bu                float64\n",
              "sc                float64\n",
              "sod               float64\n",
              "pot               float64\n",
              "hemo              float64\n",
              "pcv                object\n",
              "wc                 object\n",
              "rc                 object\n",
              "htn                object\n",
              "dm                 object\n",
              "cad                object\n",
              "appet              object\n",
              "pe                 object\n",
              "ane                object\n",
              "classification     object\n",
              "dtype: object"
            ]
          },
          "metadata": {},
          "execution_count": 9
        }
      ]
    },
    {
      "cell_type": "markdown",
      "metadata": {
        "id": "Pg7EZb7BvQSK"
      },
      "source": [
        "**Replacing Categorical values with numbers:**"
      ]
    },
    {
      "cell_type": "markdown",
      "metadata": {
        "id": "4Q9LV9lT34Gl"
      },
      "source": [
        "\n",
        "**1. rbc**"
      ]
    },
    {
      "cell_type": "code",
      "metadata": {
        "colab": {
          "base_uri": "https://localhost:8080/"
        },
        "id": "6Kfl-SPQlvEh",
        "outputId": "273b982a-e687-4c3d-a830-26fc80557427"
      },
      "source": [
        "dataset['rbc'].value_counts()\n"
      ],
      "execution_count": null,
      "outputs": [
        {
          "output_type": "execute_result",
          "data": {
            "text/plain": [
              "normal      201\n",
              "abnormal     47\n",
              "Name: rbc, dtype: int64"
            ]
          },
          "metadata": {},
          "execution_count": 10
        }
      ]
    },
    {
      "cell_type": "code",
      "metadata": {
        "id": "Mx3wym5r4Bq1"
      },
      "source": [
        "dataset['rbc'] = dataset['rbc'].replace(to_replace = {'normal' : 0, 'abnormal' : 1})\n"
      ],
      "execution_count": null,
      "outputs": []
    },
    {
      "cell_type": "markdown",
      "metadata": {
        "id": "EBeRxgMS4Uxz"
      },
      "source": [
        "**2. pc**"
      ]
    },
    {
      "cell_type": "code",
      "metadata": {
        "colab": {
          "base_uri": "https://localhost:8080/"
        },
        "id": "Efgs8mDY4ZVG",
        "outputId": "21efc35d-4835-44eb-bd37-e259b20e0908"
      },
      "source": [
        "dataset['pc'].value_counts()\n"
      ],
      "execution_count": null,
      "outputs": [
        {
          "output_type": "execute_result",
          "data": {
            "text/plain": [
              "normal      259\n",
              "abnormal     76\n",
              "Name: pc, dtype: int64"
            ]
          },
          "metadata": {},
          "execution_count": 12
        }
      ]
    },
    {
      "cell_type": "code",
      "metadata": {
        "id": "OA4Lvycd4b_U"
      },
      "source": [
        "dataset['pc'] = dataset['pc'].replace(to_replace = {'normal' : 0, 'abnormal' : 1})\n"
      ],
      "execution_count": null,
      "outputs": []
    },
    {
      "cell_type": "markdown",
      "metadata": {
        "id": "e-yO5qhL4kTK"
      },
      "source": [
        "**3. pcc**"
      ]
    },
    {
      "cell_type": "code",
      "metadata": {
        "colab": {
          "base_uri": "https://localhost:8080/"
        },
        "id": "ccXv8JSJ4rLb",
        "outputId": "b4f8facf-7f9c-4995-eebf-2abb3fadffaf"
      },
      "source": [
        "dataset['pcc'].value_counts()\n"
      ],
      "execution_count": null,
      "outputs": [
        {
          "output_type": "execute_result",
          "data": {
            "text/plain": [
              "notpresent    354\n",
              "present        42\n",
              "Name: pcc, dtype: int64"
            ]
          },
          "metadata": {},
          "execution_count": 14
        }
      ]
    },
    {
      "cell_type": "code",
      "metadata": {
        "id": "63_kMX8w4u3q"
      },
      "source": [
        "dataset['pcc'] = dataset['pcc'].replace(to_replace = {'notpresent':0,'present':1})\n"
      ],
      "execution_count": null,
      "outputs": []
    },
    {
      "cell_type": "markdown",
      "metadata": {
        "id": "sfpp1_mx4y4i"
      },
      "source": [
        "**4. ba**"
      ]
    },
    {
      "cell_type": "code",
      "metadata": {
        "colab": {
          "base_uri": "https://localhost:8080/"
        },
        "id": "uKwRHI4O44Cj",
        "outputId": "b4c09786-2d3b-45fc-cc16-fff190e17264"
      },
      "source": [
        "dataset['ba'].value_counts()\n"
      ],
      "execution_count": null,
      "outputs": [
        {
          "output_type": "execute_result",
          "data": {
            "text/plain": [
              "notpresent    374\n",
              "present        22\n",
              "Name: ba, dtype: int64"
            ]
          },
          "metadata": {},
          "execution_count": 16
        }
      ]
    },
    {
      "cell_type": "code",
      "metadata": {
        "id": "NgIkxi1746eR"
      },
      "source": [
        "dataset['ba'] = dataset['ba'].replace(to_replace = {'notpresent':0,'present':1})\n"
      ],
      "execution_count": null,
      "outputs": []
    },
    {
      "cell_type": "markdown",
      "metadata": {
        "id": "agRlmYU95BCl"
      },
      "source": [
        "**5. htn**"
      ]
    },
    {
      "cell_type": "code",
      "metadata": {
        "colab": {
          "base_uri": "https://localhost:8080/"
        },
        "id": "mgf79yoS5I96",
        "outputId": "ac78099d-4ad7-4ebe-abc1-94957a1ec368"
      },
      "source": [
        "dataset['htn'].value_counts()\n"
      ],
      "execution_count": null,
      "outputs": [
        {
          "output_type": "execute_result",
          "data": {
            "text/plain": [
              "no     251\n",
              "yes    147\n",
              "Name: htn, dtype: int64"
            ]
          },
          "metadata": {},
          "execution_count": 18
        }
      ]
    },
    {
      "cell_type": "code",
      "metadata": {
        "id": "-XX_iZ1e5LYE"
      },
      "source": [
        "dataset['htn'] = dataset['htn'].replace(to_replace = {'yes' : 1, 'no' : 0})\n"
      ],
      "execution_count": null,
      "outputs": []
    },
    {
      "cell_type": "markdown",
      "metadata": {
        "id": "6yRuOhhb5PBy"
      },
      "source": [
        "**6. dm**"
      ]
    },
    {
      "cell_type": "code",
      "metadata": {
        "colab": {
          "base_uri": "https://localhost:8080/"
        },
        "id": "uRENnNZY5UGE",
        "outputId": "91a0c30d-831a-4b49-e81c-665d9ab1ea5f"
      },
      "source": [
        "dataset['dm'].value_counts()\n"
      ],
      "execution_count": null,
      "outputs": [
        {
          "output_type": "execute_result",
          "data": {
            "text/plain": [
              "no       258\n",
              "yes      134\n",
              "\\tno       3\n",
              "\\tyes      2\n",
              " yes       1\n",
              "Name: dm, dtype: int64"
            ]
          },
          "metadata": {},
          "execution_count": 20
        }
      ]
    },
    {
      "cell_type": "code",
      "metadata": {
        "id": "-zJgoeia5YGq"
      },
      "source": [
        "dataset['dm'] = dataset['dm'].replace(to_replace = {'\\tyes':'yes', ' yes':'yes', '\\tno':'no'})\n"
      ],
      "execution_count": null,
      "outputs": []
    },
    {
      "cell_type": "code",
      "metadata": {
        "id": "9iRgukTd5eox"
      },
      "source": [
        "dataset['dm'] = dataset['dm'].replace(to_replace = {'yes' : 1, 'no' : 0})\n"
      ],
      "execution_count": null,
      "outputs": []
    },
    {
      "cell_type": "markdown",
      "metadata": {
        "id": "pM_WFpPg5jwG"
      },
      "source": [
        "**7. cad**"
      ]
    },
    {
      "cell_type": "code",
      "metadata": {
        "colab": {
          "base_uri": "https://localhost:8080/"
        },
        "id": "YPLGpVdv5rgU",
        "outputId": "fe69b189-7aee-43db-d6ce-a166547be3ca"
      },
      "source": [
        "dataset['cad'].value_counts()\n"
      ],
      "execution_count": null,
      "outputs": [
        {
          "output_type": "execute_result",
          "data": {
            "text/plain": [
              "no      362\n",
              "yes      34\n",
              "\\tno      2\n",
              "Name: cad, dtype: int64"
            ]
          },
          "metadata": {},
          "execution_count": 23
        }
      ]
    },
    {
      "cell_type": "code",
      "metadata": {
        "id": "aLv3XGwp5wkY"
      },
      "source": [
        "dataset['cad'] = dataset['cad'].replace(to_replace = {'\\tno':'no'})\n"
      ],
      "execution_count": null,
      "outputs": []
    },
    {
      "cell_type": "code",
      "metadata": {
        "id": "zgaiUfkl512s"
      },
      "source": [
        "dataset['cad'] = dataset['cad'].replace(to_replace = {'yes' : 1, 'no' : 0})\n"
      ],
      "execution_count": null,
      "outputs": []
    },
    {
      "cell_type": "markdown",
      "metadata": {
        "id": "Sv60UQFh57Ns"
      },
      "source": [
        "**8. appet**"
      ]
    },
    {
      "cell_type": "code",
      "metadata": {
        "colab": {
          "base_uri": "https://localhost:8080/"
        },
        "id": "gB7TRk-u6Ac8",
        "outputId": "c7fc12d3-7885-4828-9c69-1b28f26a5565"
      },
      "source": [
        "dataset['appet'].unique()\n"
      ],
      "execution_count": null,
      "outputs": [
        {
          "output_type": "execute_result",
          "data": {
            "text/plain": [
              "array(['good', 'poor', nan], dtype=object)"
            ]
          },
          "metadata": {},
          "execution_count": 26
        }
      ]
    },
    {
      "cell_type": "code",
      "metadata": {
        "id": "Ng9NygrU6C3Z"
      },
      "source": [
        "dataset['appet'] = dataset['appet'].replace(to_replace={'good':1,'poor':0,'no':np.nan})\n"
      ],
      "execution_count": null,
      "outputs": []
    },
    {
      "cell_type": "markdown",
      "metadata": {
        "id": "1HqTE5yI6Fmr"
      },
      "source": [
        "**9. pe**"
      ]
    },
    {
      "cell_type": "code",
      "metadata": {
        "colab": {
          "base_uri": "https://localhost:8080/"
        },
        "id": "KskCzalY6L5L",
        "outputId": "c4104976-b4c0-403d-fb05-c263eca470e8"
      },
      "source": [
        "dataset['pe'].value_counts()\n"
      ],
      "execution_count": null,
      "outputs": [
        {
          "output_type": "execute_result",
          "data": {
            "text/plain": [
              "no     323\n",
              "yes     76\n",
              "Name: pe, dtype: int64"
            ]
          },
          "metadata": {},
          "execution_count": 28
        }
      ]
    },
    {
      "cell_type": "code",
      "metadata": {
        "id": "Tb-wVrSN6Ocb"
      },
      "source": [
        "dataset['pe'] = dataset['pe'].replace(to_replace = {'yes' : 1, 'no' : 0})\n"
      ],
      "execution_count": null,
      "outputs": []
    },
    {
      "cell_type": "markdown",
      "metadata": {
        "id": "2k_RFPaE6Q0Q"
      },
      "source": [
        "**10. ane**"
      ]
    },
    {
      "cell_type": "code",
      "metadata": {
        "colab": {
          "base_uri": "https://localhost:8080/"
        },
        "id": "D5wm03N96Xvt",
        "outputId": "9f6ed8c8-ba73-49a4-86b8-a40709bce264"
      },
      "source": [
        "dataset['ane'].value_counts()\n"
      ],
      "execution_count": null,
      "outputs": [
        {
          "output_type": "execute_result",
          "data": {
            "text/plain": [
              "no     339\n",
              "yes     60\n",
              "Name: ane, dtype: int64"
            ]
          },
          "metadata": {},
          "execution_count": 30
        }
      ]
    },
    {
      "cell_type": "code",
      "metadata": {
        "id": "dgoMRLbo6ap9"
      },
      "source": [
        "dataset['ane'] = dataset['ane'].replace(to_replace = {'yes' : 1, 'no' : 0})\n"
      ],
      "execution_count": null,
      "outputs": []
    },
    {
      "cell_type": "markdown",
      "metadata": {
        "id": "QfhgL3El6dZ_"
      },
      "source": [
        "**11. classification**"
      ]
    },
    {
      "cell_type": "code",
      "metadata": {
        "colab": {
          "base_uri": "https://localhost:8080/"
        },
        "id": "a12aB2vU6lIQ",
        "outputId": "71105419-68e2-48a7-b136-6d2844d77d94"
      },
      "source": [
        "dataset['classification'].value_counts()\n"
      ],
      "execution_count": null,
      "outputs": [
        {
          "output_type": "execute_result",
          "data": {
            "text/plain": [
              "ckd       248\n",
              "notckd    150\n",
              "ckd\\t       2\n",
              "Name: classification, dtype: int64"
            ]
          },
          "metadata": {},
          "execution_count": 32
        }
      ]
    },
    {
      "cell_type": "code",
      "metadata": {
        "id": "xO9ug4yp6obK"
      },
      "source": [
        "dataset['classification'] = dataset['classification'].replace(to_replace={'ckd\\t':'ckd'})\n"
      ],
      "execution_count": null,
      "outputs": []
    },
    {
      "cell_type": "code",
      "metadata": {
        "id": "rYtdjwXS60dW"
      },
      "source": [
        "dataset[\"classification\"] = [1 if i == \"ckd\" else 0 for i in dataset[\"classification\"]]\n"
      ],
      "execution_count": null,
      "outputs": []
    },
    {
      "cell_type": "code",
      "metadata": {
        "colab": {
          "base_uri": "https://localhost:8080/",
          "height": 203
        },
        "id": "CK7K-r4z65rs",
        "outputId": "c2bd0bd0-a78f-41b8-901d-40c625a8672b"
      },
      "source": [
        "dataset.head()\n"
      ],
      "execution_count": null,
      "outputs": [
        {
          "output_type": "execute_result",
          "data": {
            "text/html": [
              "<div>\n",
              "<style scoped>\n",
              "    .dataframe tbody tr th:only-of-type {\n",
              "        vertical-align: middle;\n",
              "    }\n",
              "\n",
              "    .dataframe tbody tr th {\n",
              "        vertical-align: top;\n",
              "    }\n",
              "\n",
              "    .dataframe thead th {\n",
              "        text-align: right;\n",
              "    }\n",
              "</style>\n",
              "<table border=\"1\" class=\"dataframe\">\n",
              "  <thead>\n",
              "    <tr style=\"text-align: right;\">\n",
              "      <th></th>\n",
              "      <th>age</th>\n",
              "      <th>bp</th>\n",
              "      <th>sg</th>\n",
              "      <th>al</th>\n",
              "      <th>su</th>\n",
              "      <th>rbc</th>\n",
              "      <th>pc</th>\n",
              "      <th>pcc</th>\n",
              "      <th>ba</th>\n",
              "      <th>bgr</th>\n",
              "      <th>bu</th>\n",
              "      <th>sc</th>\n",
              "      <th>sod</th>\n",
              "      <th>pot</th>\n",
              "      <th>hemo</th>\n",
              "      <th>pcv</th>\n",
              "      <th>wc</th>\n",
              "      <th>rc</th>\n",
              "      <th>htn</th>\n",
              "      <th>dm</th>\n",
              "      <th>cad</th>\n",
              "      <th>appet</th>\n",
              "      <th>pe</th>\n",
              "      <th>ane</th>\n",
              "      <th>classification</th>\n",
              "    </tr>\n",
              "  </thead>\n",
              "  <tbody>\n",
              "    <tr>\n",
              "      <th>0</th>\n",
              "      <td>48.0</td>\n",
              "      <td>80.0</td>\n",
              "      <td>1.020</td>\n",
              "      <td>1.0</td>\n",
              "      <td>0.0</td>\n",
              "      <td>NaN</td>\n",
              "      <td>0.0</td>\n",
              "      <td>0.0</td>\n",
              "      <td>0.0</td>\n",
              "      <td>121.0</td>\n",
              "      <td>36.0</td>\n",
              "      <td>1.2</td>\n",
              "      <td>NaN</td>\n",
              "      <td>NaN</td>\n",
              "      <td>15.4</td>\n",
              "      <td>44</td>\n",
              "      <td>7800</td>\n",
              "      <td>5.2</td>\n",
              "      <td>1.0</td>\n",
              "      <td>1.0</td>\n",
              "      <td>0.0</td>\n",
              "      <td>1.0</td>\n",
              "      <td>0.0</td>\n",
              "      <td>0.0</td>\n",
              "      <td>1</td>\n",
              "    </tr>\n",
              "    <tr>\n",
              "      <th>1</th>\n",
              "      <td>7.0</td>\n",
              "      <td>50.0</td>\n",
              "      <td>1.020</td>\n",
              "      <td>4.0</td>\n",
              "      <td>0.0</td>\n",
              "      <td>NaN</td>\n",
              "      <td>0.0</td>\n",
              "      <td>0.0</td>\n",
              "      <td>0.0</td>\n",
              "      <td>NaN</td>\n",
              "      <td>18.0</td>\n",
              "      <td>0.8</td>\n",
              "      <td>NaN</td>\n",
              "      <td>NaN</td>\n",
              "      <td>11.3</td>\n",
              "      <td>38</td>\n",
              "      <td>6000</td>\n",
              "      <td>NaN</td>\n",
              "      <td>0.0</td>\n",
              "      <td>0.0</td>\n",
              "      <td>0.0</td>\n",
              "      <td>1.0</td>\n",
              "      <td>0.0</td>\n",
              "      <td>0.0</td>\n",
              "      <td>1</td>\n",
              "    </tr>\n",
              "    <tr>\n",
              "      <th>2</th>\n",
              "      <td>62.0</td>\n",
              "      <td>80.0</td>\n",
              "      <td>1.010</td>\n",
              "      <td>2.0</td>\n",
              "      <td>3.0</td>\n",
              "      <td>0.0</td>\n",
              "      <td>0.0</td>\n",
              "      <td>0.0</td>\n",
              "      <td>0.0</td>\n",
              "      <td>423.0</td>\n",
              "      <td>53.0</td>\n",
              "      <td>1.8</td>\n",
              "      <td>NaN</td>\n",
              "      <td>NaN</td>\n",
              "      <td>9.6</td>\n",
              "      <td>31</td>\n",
              "      <td>7500</td>\n",
              "      <td>NaN</td>\n",
              "      <td>0.0</td>\n",
              "      <td>1.0</td>\n",
              "      <td>0.0</td>\n",
              "      <td>0.0</td>\n",
              "      <td>0.0</td>\n",
              "      <td>1.0</td>\n",
              "      <td>1</td>\n",
              "    </tr>\n",
              "    <tr>\n",
              "      <th>3</th>\n",
              "      <td>48.0</td>\n",
              "      <td>70.0</td>\n",
              "      <td>1.005</td>\n",
              "      <td>4.0</td>\n",
              "      <td>0.0</td>\n",
              "      <td>0.0</td>\n",
              "      <td>1.0</td>\n",
              "      <td>1.0</td>\n",
              "      <td>0.0</td>\n",
              "      <td>117.0</td>\n",
              "      <td>56.0</td>\n",
              "      <td>3.8</td>\n",
              "      <td>111.0</td>\n",
              "      <td>2.5</td>\n",
              "      <td>11.2</td>\n",
              "      <td>32</td>\n",
              "      <td>6700</td>\n",
              "      <td>3.9</td>\n",
              "      <td>1.0</td>\n",
              "      <td>0.0</td>\n",
              "      <td>0.0</td>\n",
              "      <td>0.0</td>\n",
              "      <td>1.0</td>\n",
              "      <td>1.0</td>\n",
              "      <td>1</td>\n",
              "    </tr>\n",
              "    <tr>\n",
              "      <th>4</th>\n",
              "      <td>51.0</td>\n",
              "      <td>80.0</td>\n",
              "      <td>1.010</td>\n",
              "      <td>2.0</td>\n",
              "      <td>0.0</td>\n",
              "      <td>0.0</td>\n",
              "      <td>0.0</td>\n",
              "      <td>0.0</td>\n",
              "      <td>0.0</td>\n",
              "      <td>106.0</td>\n",
              "      <td>26.0</td>\n",
              "      <td>1.4</td>\n",
              "      <td>NaN</td>\n",
              "      <td>NaN</td>\n",
              "      <td>11.6</td>\n",
              "      <td>35</td>\n",
              "      <td>7300</td>\n",
              "      <td>4.6</td>\n",
              "      <td>0.0</td>\n",
              "      <td>0.0</td>\n",
              "      <td>0.0</td>\n",
              "      <td>1.0</td>\n",
              "      <td>0.0</td>\n",
              "      <td>0.0</td>\n",
              "      <td>1</td>\n",
              "    </tr>\n",
              "  </tbody>\n",
              "</table>\n",
              "</div>"
            ],
            "text/plain": [
              "    age    bp     sg   al   su  rbc   pc  pcc   ba    bgr    bu   sc    sod  \\\n",
              "0  48.0  80.0  1.020  1.0  0.0  NaN  0.0  0.0  0.0  121.0  36.0  1.2    NaN   \n",
              "1   7.0  50.0  1.020  4.0  0.0  NaN  0.0  0.0  0.0    NaN  18.0  0.8    NaN   \n",
              "2  62.0  80.0  1.010  2.0  3.0  0.0  0.0  0.0  0.0  423.0  53.0  1.8    NaN   \n",
              "3  48.0  70.0  1.005  4.0  0.0  0.0  1.0  1.0  0.0  117.0  56.0  3.8  111.0   \n",
              "4  51.0  80.0  1.010  2.0  0.0  0.0  0.0  0.0  0.0  106.0  26.0  1.4    NaN   \n",
              "\n",
              "   pot  hemo pcv    wc   rc  htn   dm  cad  appet   pe  ane  classification  \n",
              "0  NaN  15.4  44  7800  5.2  1.0  1.0  0.0    1.0  0.0  0.0               1  \n",
              "1  NaN  11.3  38  6000  NaN  0.0  0.0  0.0    1.0  0.0  0.0               1  \n",
              "2  NaN   9.6  31  7500  NaN  0.0  1.0  0.0    0.0  0.0  1.0               1  \n",
              "3  2.5  11.2  32  6700  3.9  1.0  0.0  0.0    0.0  1.0  1.0               1  \n",
              "4  NaN  11.6  35  7300  4.6  0.0  0.0  0.0    1.0  0.0  0.0               1  "
            ]
          },
          "metadata": {},
          "execution_count": 35
        }
      ]
    },
    {
      "cell_type": "code",
      "metadata": {
        "colab": {
          "base_uri": "https://localhost:8080/"
        },
        "id": "WCmgmZWu7A3D",
        "outputId": "8c5f09f2-93f8-4585-a685-8a3a1a8c2886"
      },
      "source": [
        "# Datatypes:\n",
        "dataset.dtypes"
      ],
      "execution_count": null,
      "outputs": [
        {
          "output_type": "execute_result",
          "data": {
            "text/plain": [
              "age               float64\n",
              "bp                float64\n",
              "sg                float64\n",
              "al                float64\n",
              "su                float64\n",
              "rbc               float64\n",
              "pc                float64\n",
              "pcc               float64\n",
              "ba                float64\n",
              "bgr               float64\n",
              "bu                float64\n",
              "sc                float64\n",
              "sod               float64\n",
              "pot               float64\n",
              "hemo              float64\n",
              "pcv                object\n",
              "wc                 object\n",
              "rc                 object\n",
              "htn               float64\n",
              "dm                float64\n",
              "cad               float64\n",
              "appet             float64\n",
              "pe                float64\n",
              "ane               float64\n",
              "classification      int64\n",
              "dtype: object"
            ]
          },
          "metadata": {},
          "execution_count": 36
        }
      ]
    },
    {
      "cell_type": "markdown",
      "metadata": {
        "id": "cgeofnjR7Kds"
      },
      "source": [
        "**Converting Object values into Numeric values:**"
      ]
    },
    {
      "cell_type": "code",
      "metadata": {
        "id": "WcmgGRWj7Ngd"
      },
      "source": [
        "dataset['pcv'] = pd.to_numeric(dataset['pcv'], errors='coerce')\n",
        "dataset['wc'] = pd.to_numeric(dataset['wc'], errors='coerce')\n",
        "dataset['rc'] = pd.to_numeric(dataset['rc'], errors='coerce')"
      ],
      "execution_count": null,
      "outputs": []
    },
    {
      "cell_type": "code",
      "metadata": {
        "colab": {
          "base_uri": "https://localhost:8080/"
        },
        "id": "qYEvunXQ7Tho",
        "outputId": "052c2630-7c65-43b1-d82d-ddb7444323a7"
      },
      "source": [
        "# Datatypes:\n",
        "dataset.dtypes"
      ],
      "execution_count": null,
      "outputs": [
        {
          "output_type": "execute_result",
          "data": {
            "text/plain": [
              "age               float64\n",
              "bp                float64\n",
              "sg                float64\n",
              "al                float64\n",
              "su                float64\n",
              "rbc               float64\n",
              "pc                float64\n",
              "pcc               float64\n",
              "ba                float64\n",
              "bgr               float64\n",
              "bu                float64\n",
              "sc                float64\n",
              "sod               float64\n",
              "pot               float64\n",
              "hemo              float64\n",
              "pcv               float64\n",
              "wc                float64\n",
              "rc                float64\n",
              "htn               float64\n",
              "dm                float64\n",
              "cad               float64\n",
              "appet             float64\n",
              "pe                float64\n",
              "ane               float64\n",
              "classification      int64\n",
              "dtype: object"
            ]
          },
          "metadata": {},
          "execution_count": 38
        }
      ]
    },
    {
      "cell_type": "code",
      "metadata": {
        "colab": {
          "base_uri": "https://localhost:8080/",
          "height": 315
        },
        "id": "MxscBBsf7cir",
        "outputId": "67c65aff-bd28-4124-8678-b3139f01faba"
      },
      "source": [
        "# Description:\n",
        "dataset.describe()"
      ],
      "execution_count": null,
      "outputs": [
        {
          "output_type": "execute_result",
          "data": {
            "text/html": [
              "<div>\n",
              "<style scoped>\n",
              "    .dataframe tbody tr th:only-of-type {\n",
              "        vertical-align: middle;\n",
              "    }\n",
              "\n",
              "    .dataframe tbody tr th {\n",
              "        vertical-align: top;\n",
              "    }\n",
              "\n",
              "    .dataframe thead th {\n",
              "        text-align: right;\n",
              "    }\n",
              "</style>\n",
              "<table border=\"1\" class=\"dataframe\">\n",
              "  <thead>\n",
              "    <tr style=\"text-align: right;\">\n",
              "      <th></th>\n",
              "      <th>age</th>\n",
              "      <th>bp</th>\n",
              "      <th>sg</th>\n",
              "      <th>al</th>\n",
              "      <th>su</th>\n",
              "      <th>rbc</th>\n",
              "      <th>pc</th>\n",
              "      <th>pcc</th>\n",
              "      <th>ba</th>\n",
              "      <th>bgr</th>\n",
              "      <th>bu</th>\n",
              "      <th>sc</th>\n",
              "      <th>sod</th>\n",
              "      <th>pot</th>\n",
              "      <th>hemo</th>\n",
              "      <th>pcv</th>\n",
              "      <th>wc</th>\n",
              "      <th>rc</th>\n",
              "      <th>htn</th>\n",
              "      <th>dm</th>\n",
              "      <th>cad</th>\n",
              "      <th>appet</th>\n",
              "      <th>pe</th>\n",
              "      <th>ane</th>\n",
              "      <th>classification</th>\n",
              "    </tr>\n",
              "  </thead>\n",
              "  <tbody>\n",
              "    <tr>\n",
              "      <th>count</th>\n",
              "      <td>391.000000</td>\n",
              "      <td>388.000000</td>\n",
              "      <td>353.000000</td>\n",
              "      <td>354.000000</td>\n",
              "      <td>351.000000</td>\n",
              "      <td>248.000000</td>\n",
              "      <td>335.000000</td>\n",
              "      <td>396.000000</td>\n",
              "      <td>396.000000</td>\n",
              "      <td>356.000000</td>\n",
              "      <td>381.000000</td>\n",
              "      <td>383.000000</td>\n",
              "      <td>313.000000</td>\n",
              "      <td>312.000000</td>\n",
              "      <td>348.000000</td>\n",
              "      <td>329.000000</td>\n",
              "      <td>294.000000</td>\n",
              "      <td>269.000000</td>\n",
              "      <td>398.000000</td>\n",
              "      <td>398.000000</td>\n",
              "      <td>398.000000</td>\n",
              "      <td>399.000000</td>\n",
              "      <td>399.000000</td>\n",
              "      <td>399.000000</td>\n",
              "      <td>400.000000</td>\n",
              "    </tr>\n",
              "    <tr>\n",
              "      <th>mean</th>\n",
              "      <td>51.483376</td>\n",
              "      <td>76.469072</td>\n",
              "      <td>1.017408</td>\n",
              "      <td>1.016949</td>\n",
              "      <td>0.450142</td>\n",
              "      <td>0.189516</td>\n",
              "      <td>0.226866</td>\n",
              "      <td>0.106061</td>\n",
              "      <td>0.055556</td>\n",
              "      <td>148.036517</td>\n",
              "      <td>57.425722</td>\n",
              "      <td>3.072454</td>\n",
              "      <td>137.528754</td>\n",
              "      <td>4.627244</td>\n",
              "      <td>12.526437</td>\n",
              "      <td>38.884498</td>\n",
              "      <td>8406.122449</td>\n",
              "      <td>4.707435</td>\n",
              "      <td>0.369347</td>\n",
              "      <td>0.344221</td>\n",
              "      <td>0.085427</td>\n",
              "      <td>0.794486</td>\n",
              "      <td>0.190476</td>\n",
              "      <td>0.150376</td>\n",
              "      <td>0.625000</td>\n",
              "    </tr>\n",
              "    <tr>\n",
              "      <th>std</th>\n",
              "      <td>17.169714</td>\n",
              "      <td>13.683637</td>\n",
              "      <td>0.005717</td>\n",
              "      <td>1.352679</td>\n",
              "      <td>1.099191</td>\n",
              "      <td>0.392711</td>\n",
              "      <td>0.419431</td>\n",
              "      <td>0.308305</td>\n",
              "      <td>0.229351</td>\n",
              "      <td>79.281714</td>\n",
              "      <td>50.503006</td>\n",
              "      <td>5.741126</td>\n",
              "      <td>10.408752</td>\n",
              "      <td>3.193904</td>\n",
              "      <td>2.912587</td>\n",
              "      <td>8.990105</td>\n",
              "      <td>2944.474190</td>\n",
              "      <td>1.025323</td>\n",
              "      <td>0.483235</td>\n",
              "      <td>0.475712</td>\n",
              "      <td>0.279868</td>\n",
              "      <td>0.404584</td>\n",
              "      <td>0.393170</td>\n",
              "      <td>0.357888</td>\n",
              "      <td>0.484729</td>\n",
              "    </tr>\n",
              "    <tr>\n",
              "      <th>min</th>\n",
              "      <td>2.000000</td>\n",
              "      <td>50.000000</td>\n",
              "      <td>1.005000</td>\n",
              "      <td>0.000000</td>\n",
              "      <td>0.000000</td>\n",
              "      <td>0.000000</td>\n",
              "      <td>0.000000</td>\n",
              "      <td>0.000000</td>\n",
              "      <td>0.000000</td>\n",
              "      <td>22.000000</td>\n",
              "      <td>1.500000</td>\n",
              "      <td>0.400000</td>\n",
              "      <td>4.500000</td>\n",
              "      <td>2.500000</td>\n",
              "      <td>3.100000</td>\n",
              "      <td>9.000000</td>\n",
              "      <td>2200.000000</td>\n",
              "      <td>2.100000</td>\n",
              "      <td>0.000000</td>\n",
              "      <td>0.000000</td>\n",
              "      <td>0.000000</td>\n",
              "      <td>0.000000</td>\n",
              "      <td>0.000000</td>\n",
              "      <td>0.000000</td>\n",
              "      <td>0.000000</td>\n",
              "    </tr>\n",
              "    <tr>\n",
              "      <th>25%</th>\n",
              "      <td>42.000000</td>\n",
              "      <td>70.000000</td>\n",
              "      <td>1.010000</td>\n",
              "      <td>0.000000</td>\n",
              "      <td>0.000000</td>\n",
              "      <td>0.000000</td>\n",
              "      <td>0.000000</td>\n",
              "      <td>0.000000</td>\n",
              "      <td>0.000000</td>\n",
              "      <td>99.000000</td>\n",
              "      <td>27.000000</td>\n",
              "      <td>0.900000</td>\n",
              "      <td>135.000000</td>\n",
              "      <td>3.800000</td>\n",
              "      <td>10.300000</td>\n",
              "      <td>32.000000</td>\n",
              "      <td>6500.000000</td>\n",
              "      <td>3.900000</td>\n",
              "      <td>0.000000</td>\n",
              "      <td>0.000000</td>\n",
              "      <td>0.000000</td>\n",
              "      <td>1.000000</td>\n",
              "      <td>0.000000</td>\n",
              "      <td>0.000000</td>\n",
              "      <td>0.000000</td>\n",
              "    </tr>\n",
              "    <tr>\n",
              "      <th>50%</th>\n",
              "      <td>55.000000</td>\n",
              "      <td>80.000000</td>\n",
              "      <td>1.020000</td>\n",
              "      <td>0.000000</td>\n",
              "      <td>0.000000</td>\n",
              "      <td>0.000000</td>\n",
              "      <td>0.000000</td>\n",
              "      <td>0.000000</td>\n",
              "      <td>0.000000</td>\n",
              "      <td>121.000000</td>\n",
              "      <td>42.000000</td>\n",
              "      <td>1.300000</td>\n",
              "      <td>138.000000</td>\n",
              "      <td>4.400000</td>\n",
              "      <td>12.650000</td>\n",
              "      <td>40.000000</td>\n",
              "      <td>8000.000000</td>\n",
              "      <td>4.800000</td>\n",
              "      <td>0.000000</td>\n",
              "      <td>0.000000</td>\n",
              "      <td>0.000000</td>\n",
              "      <td>1.000000</td>\n",
              "      <td>0.000000</td>\n",
              "      <td>0.000000</td>\n",
              "      <td>1.000000</td>\n",
              "    </tr>\n",
              "    <tr>\n",
              "      <th>75%</th>\n",
              "      <td>64.500000</td>\n",
              "      <td>80.000000</td>\n",
              "      <td>1.020000</td>\n",
              "      <td>2.000000</td>\n",
              "      <td>0.000000</td>\n",
              "      <td>0.000000</td>\n",
              "      <td>0.000000</td>\n",
              "      <td>0.000000</td>\n",
              "      <td>0.000000</td>\n",
              "      <td>163.000000</td>\n",
              "      <td>66.000000</td>\n",
              "      <td>2.800000</td>\n",
              "      <td>142.000000</td>\n",
              "      <td>4.900000</td>\n",
              "      <td>15.000000</td>\n",
              "      <td>45.000000</td>\n",
              "      <td>9800.000000</td>\n",
              "      <td>5.400000</td>\n",
              "      <td>1.000000</td>\n",
              "      <td>1.000000</td>\n",
              "      <td>0.000000</td>\n",
              "      <td>1.000000</td>\n",
              "      <td>0.000000</td>\n",
              "      <td>0.000000</td>\n",
              "      <td>1.000000</td>\n",
              "    </tr>\n",
              "    <tr>\n",
              "      <th>max</th>\n",
              "      <td>90.000000</td>\n",
              "      <td>180.000000</td>\n",
              "      <td>1.025000</td>\n",
              "      <td>5.000000</td>\n",
              "      <td>5.000000</td>\n",
              "      <td>1.000000</td>\n",
              "      <td>1.000000</td>\n",
              "      <td>1.000000</td>\n",
              "      <td>1.000000</td>\n",
              "      <td>490.000000</td>\n",
              "      <td>391.000000</td>\n",
              "      <td>76.000000</td>\n",
              "      <td>163.000000</td>\n",
              "      <td>47.000000</td>\n",
              "      <td>17.800000</td>\n",
              "      <td>54.000000</td>\n",
              "      <td>26400.000000</td>\n",
              "      <td>8.000000</td>\n",
              "      <td>1.000000</td>\n",
              "      <td>1.000000</td>\n",
              "      <td>1.000000</td>\n",
              "      <td>1.000000</td>\n",
              "      <td>1.000000</td>\n",
              "      <td>1.000000</td>\n",
              "      <td>1.000000</td>\n",
              "    </tr>\n",
              "  </tbody>\n",
              "</table>\n",
              "</div>"
            ],
            "text/plain": [
              "              age          bp          sg          al          su         rbc  \\\n",
              "count  391.000000  388.000000  353.000000  354.000000  351.000000  248.000000   \n",
              "mean    51.483376   76.469072    1.017408    1.016949    0.450142    0.189516   \n",
              "std     17.169714   13.683637    0.005717    1.352679    1.099191    0.392711   \n",
              "min      2.000000   50.000000    1.005000    0.000000    0.000000    0.000000   \n",
              "25%     42.000000   70.000000    1.010000    0.000000    0.000000    0.000000   \n",
              "50%     55.000000   80.000000    1.020000    0.000000    0.000000    0.000000   \n",
              "75%     64.500000   80.000000    1.020000    2.000000    0.000000    0.000000   \n",
              "max     90.000000  180.000000    1.025000    5.000000    5.000000    1.000000   \n",
              "\n",
              "               pc         pcc          ba         bgr          bu          sc  \\\n",
              "count  335.000000  396.000000  396.000000  356.000000  381.000000  383.000000   \n",
              "mean     0.226866    0.106061    0.055556  148.036517   57.425722    3.072454   \n",
              "std      0.419431    0.308305    0.229351   79.281714   50.503006    5.741126   \n",
              "min      0.000000    0.000000    0.000000   22.000000    1.500000    0.400000   \n",
              "25%      0.000000    0.000000    0.000000   99.000000   27.000000    0.900000   \n",
              "50%      0.000000    0.000000    0.000000  121.000000   42.000000    1.300000   \n",
              "75%      0.000000    0.000000    0.000000  163.000000   66.000000    2.800000   \n",
              "max      1.000000    1.000000    1.000000  490.000000  391.000000   76.000000   \n",
              "\n",
              "              sod         pot        hemo         pcv            wc  \\\n",
              "count  313.000000  312.000000  348.000000  329.000000    294.000000   \n",
              "mean   137.528754    4.627244   12.526437   38.884498   8406.122449   \n",
              "std     10.408752    3.193904    2.912587    8.990105   2944.474190   \n",
              "min      4.500000    2.500000    3.100000    9.000000   2200.000000   \n",
              "25%    135.000000    3.800000   10.300000   32.000000   6500.000000   \n",
              "50%    138.000000    4.400000   12.650000   40.000000   8000.000000   \n",
              "75%    142.000000    4.900000   15.000000   45.000000   9800.000000   \n",
              "max    163.000000   47.000000   17.800000   54.000000  26400.000000   \n",
              "\n",
              "               rc         htn          dm         cad       appet          pe  \\\n",
              "count  269.000000  398.000000  398.000000  398.000000  399.000000  399.000000   \n",
              "mean     4.707435    0.369347    0.344221    0.085427    0.794486    0.190476   \n",
              "std      1.025323    0.483235    0.475712    0.279868    0.404584    0.393170   \n",
              "min      2.100000    0.000000    0.000000    0.000000    0.000000    0.000000   \n",
              "25%      3.900000    0.000000    0.000000    0.000000    1.000000    0.000000   \n",
              "50%      4.800000    0.000000    0.000000    0.000000    1.000000    0.000000   \n",
              "75%      5.400000    1.000000    1.000000    0.000000    1.000000    0.000000   \n",
              "max      8.000000    1.000000    1.000000    1.000000    1.000000    1.000000   \n",
              "\n",
              "              ane  classification  \n",
              "count  399.000000      400.000000  \n",
              "mean     0.150376        0.625000  \n",
              "std      0.357888        0.484729  \n",
              "min      0.000000        0.000000  \n",
              "25%      0.000000        0.000000  \n",
              "50%      0.000000        1.000000  \n",
              "75%      0.000000        1.000000  \n",
              "max      1.000000        1.000000  "
            ]
          },
          "metadata": {},
          "execution_count": 39
        }
      ]
    },
    {
      "cell_type": "code",
      "metadata": {
        "colab": {
          "base_uri": "https://localhost:8080/"
        },
        "id": "JudRTHQd7odR",
        "outputId": "30447b24-da77-4a62-c3f8-9eafcd1f35e3"
      },
      "source": [
        "# Cheaking Missing (NaN) Values:\n",
        "dataset.isnull().sum().sort_values(ascending=False)"
      ],
      "execution_count": null,
      "outputs": [
        {
          "output_type": "execute_result",
          "data": {
            "text/plain": [
              "rbc               152\n",
              "rc                131\n",
              "wc                106\n",
              "pot                88\n",
              "sod                87\n",
              "pcv                71\n",
              "pc                 65\n",
              "hemo               52\n",
              "su                 49\n",
              "sg                 47\n",
              "al                 46\n",
              "bgr                44\n",
              "bu                 19\n",
              "sc                 17\n",
              "bp                 12\n",
              "age                 9\n",
              "ba                  4\n",
              "pcc                 4\n",
              "htn                 2\n",
              "dm                  2\n",
              "cad                 2\n",
              "ane                 1\n",
              "appet               1\n",
              "pe                  1\n",
              "classification      0\n",
              "dtype: int64"
            ]
          },
          "metadata": {},
          "execution_count": 40
        }
      ]
    },
    {
      "cell_type": "markdown",
      "metadata": {
        "id": "rpFOC0-l7tlf"
      },
      "source": [
        "**Handling Null Values:**\n",
        "\n",
        "There is Outliers present in our dataset so We fill NaN values with Median."
      ]
    },
    {
      "cell_type": "code",
      "metadata": {
        "colab": {
          "base_uri": "https://localhost:8080/"
        },
        "id": "BM58hFLC71Tu",
        "outputId": "d0ddd36f-8a5e-43e9-945d-5906c77ba171"
      },
      "source": [
        "dataset.columns\n"
      ],
      "execution_count": null,
      "outputs": [
        {
          "output_type": "execute_result",
          "data": {
            "text/plain": [
              "Index(['age', 'bp', 'sg', 'al', 'su', 'rbc', 'pc', 'pcc', 'ba', 'bgr', 'bu',\n",
              "       'sc', 'sod', 'pot', 'hemo', 'pcv', 'wc', 'rc', 'htn', 'dm', 'cad',\n",
              "       'appet', 'pe', 'ane', 'classification'],\n",
              "      dtype='object')"
            ]
          },
          "metadata": {},
          "execution_count": 41
        }
      ]
    },
    {
      "cell_type": "code",
      "metadata": {
        "id": "_Fzd6btC74jx"
      },
      "source": [
        "\n",
        "features = ['age', 'bp', 'sg', 'al', 'su', 'rbc', 'pc', 'pcc', 'ba', 'bgr', 'bu',\n",
        "           'sc', 'sod', 'pot', 'hemo', 'pcv', 'wc', 'rc', 'htn', 'dm', 'cad',\n",
        "           'appet', 'pe', 'ane']\n"
      ],
      "execution_count": null,
      "outputs": []
    },
    {
      "cell_type": "code",
      "metadata": {
        "id": "GKUnahjS79-u"
      },
      "source": [
        "for feature in features:\n",
        "    dataset[feature] = dataset[feature].fillna(dataset[feature].median())"
      ],
      "execution_count": null,
      "outputs": []
    },
    {
      "cell_type": "code",
      "metadata": {
        "colab": {
          "base_uri": "https://localhost:8080/"
        },
        "id": "qnkhSUHd8Ea1",
        "outputId": "1f025bab-cece-4b36-9819-7b93cb1e53b9"
      },
      "source": [
        "dataset.isnull().any().sum()\n"
      ],
      "execution_count": null,
      "outputs": [
        {
          "output_type": "execute_result",
          "data": {
            "text/plain": [
              "0"
            ]
          },
          "metadata": {},
          "execution_count": 44
        }
      ]
    },
    {
      "cell_type": "markdown",
      "metadata": {
        "id": "J_NurkFT8LHu"
      },
      "source": [
        "**Heatmap**"
      ]
    },
    {
      "cell_type": "code",
      "metadata": {
        "colab": {
          "base_uri": "https://localhost:8080/",
          "height": 702
        },
        "id": "nLHtnL5k8NZ9",
        "outputId": "767526b5-a3c0-43a5-a657-56cd6395034c"
      },
      "source": [
        "\n",
        "plt.figure(figsize=(24,14))\n",
        "sns.heatmap(dataset.corr(), annot=True, cmap='YlGnBu')\n",
        "plt.show()"
      ],
      "execution_count": null,
      "outputs": [
        {
          "output_type": "display_data",
          "data": {
            "image/png": "[encoded data removed]",
            "text/plain": [
              "<Figure size 1728x1008 with 2 Axes>"
            ]
          },
          "metadata": {
            "needs_background": "light"
          }
        }
      ]
    },
    {
      "cell_type": "markdown",
      "metadata": {
        "id": "h4p8duew8d8K"
      },
      "source": [
        "* We clearly see that 'pcv' and 'hemo' feature has 85% multicollinearity\n",
        "* So we remove one of the feature. i.e pcv\n",
        "\n",
        "\n",
        "\n"
      ]
    },
    {
      "cell_type": "code",
      "metadata": {
        "id": "sb4t0wrf8mv_"
      },
      "source": [
        "dataset.drop('pcv', axis=1, inplace=True)\n"
      ],
      "execution_count": null,
      "outputs": []
    },
    {
      "cell_type": "code",
      "metadata": {
        "colab": {
          "base_uri": "https://localhost:8080/",
          "height": 203
        },
        "id": "EmPYyvoP8pU-",
        "outputId": "c62ec04f-30b3-4afd-d3bf-f3cc7eb4ef62"
      },
      "source": [
        "dataset.head()\n"
      ],
      "execution_count": null,
      "outputs": [
        {
          "output_type": "execute_result",
          "data": {
            "text/html": [
              "<div>\n",
              "<style scoped>\n",
              "    .dataframe tbody tr th:only-of-type {\n",
              "        vertical-align: middle;\n",
              "    }\n",
              "\n",
              "    .dataframe tbody tr th {\n",
              "        vertical-align: top;\n",
              "    }\n",
              "\n",
              "    .dataframe thead th {\n",
              "        text-align: right;\n",
              "    }\n",
              "</style>\n",
              "<table border=\"1\" class=\"dataframe\">\n",
              "  <thead>\n",
              "    <tr style=\"text-align: right;\">\n",
              "      <th></th>\n",
              "      <th>age</th>\n",
              "      <th>bp</th>\n",
              "      <th>sg</th>\n",
              "      <th>al</th>\n",
              "      <th>su</th>\n",
              "      <th>rbc</th>\n",
              "      <th>pc</th>\n",
              "      <th>pcc</th>\n",
              "      <th>ba</th>\n",
              "      <th>bgr</th>\n",
              "      <th>bu</th>\n",
              "      <th>sc</th>\n",
              "      <th>sod</th>\n",
              "      <th>pot</th>\n",
              "      <th>hemo</th>\n",
              "      <th>wc</th>\n",
              "      <th>rc</th>\n",
              "      <th>htn</th>\n",
              "      <th>dm</th>\n",
              "      <th>cad</th>\n",
              "      <th>appet</th>\n",
              "      <th>pe</th>\n",
              "      <th>ane</th>\n",
              "      <th>classification</th>\n",
              "    </tr>\n",
              "  </thead>\n",
              "  <tbody>\n",
              "    <tr>\n",
              "      <th>0</th>\n",
              "      <td>48.0</td>\n",
              "      <td>80.0</td>\n",
              "      <td>1.020</td>\n",
              "      <td>1.0</td>\n",
              "      <td>0.0</td>\n",
              "      <td>0.0</td>\n",
              "      <td>0.0</td>\n",
              "      <td>0.0</td>\n",
              "      <td>0.0</td>\n",
              "      <td>121.0</td>\n",
              "      <td>36.0</td>\n",
              "      <td>1.2</td>\n",
              "      <td>138.0</td>\n",
              "      <td>4.4</td>\n",
              "      <td>15.4</td>\n",
              "      <td>7800.0</td>\n",
              "      <td>5.2</td>\n",
              "      <td>1.0</td>\n",
              "      <td>1.0</td>\n",
              "      <td>0.0</td>\n",
              "      <td>1.0</td>\n",
              "      <td>0.0</td>\n",
              "      <td>0.0</td>\n",
              "      <td>1</td>\n",
              "    </tr>\n",
              "    <tr>\n",
              "      <th>1</th>\n",
              "      <td>7.0</td>\n",
              "      <td>50.0</td>\n",
              "      <td>1.020</td>\n",
              "      <td>4.0</td>\n",
              "      <td>0.0</td>\n",
              "      <td>0.0</td>\n",
              "      <td>0.0</td>\n",
              "      <td>0.0</td>\n",
              "      <td>0.0</td>\n",
              "      <td>121.0</td>\n",
              "      <td>18.0</td>\n",
              "      <td>0.8</td>\n",
              "      <td>138.0</td>\n",
              "      <td>4.4</td>\n",
              "      <td>11.3</td>\n",
              "      <td>6000.0</td>\n",
              "      <td>4.8</td>\n",
              "      <td>0.0</td>\n",
              "      <td>0.0</td>\n",
              "      <td>0.0</td>\n",
              "      <td>1.0</td>\n",
              "      <td>0.0</td>\n",
              "      <td>0.0</td>\n",
              "      <td>1</td>\n",
              "    </tr>\n",
              "    <tr>\n",
              "      <th>2</th>\n",
              "      <td>62.0</td>\n",
              "      <td>80.0</td>\n",
              "      <td>1.010</td>\n",
              "      <td>2.0</td>\n",
              "      <td>3.0</td>\n",
              "      <td>0.0</td>\n",
              "      <td>0.0</td>\n",
              "      <td>0.0</td>\n",
              "      <td>0.0</td>\n",
              "      <td>423.0</td>\n",
              "      <td>53.0</td>\n",
              "      <td>1.8</td>\n",
              "      <td>138.0</td>\n",
              "      <td>4.4</td>\n",
              "      <td>9.6</td>\n",
              "      <td>7500.0</td>\n",
              "      <td>4.8</td>\n",
              "      <td>0.0</td>\n",
              "      <td>1.0</td>\n",
              "      <td>0.0</td>\n",
              "      <td>0.0</td>\n",
              "      <td>0.0</td>\n",
              "      <td>1.0</td>\n",
              "      <td>1</td>\n",
              "    </tr>\n",
              "    <tr>\n",
              "      <th>3</th>\n",
              "      <td>48.0</td>\n",
              "      <td>70.0</td>\n",
              "      <td>1.005</td>\n",
              "      <td>4.0</td>\n",
              "      <td>0.0</td>\n",
              "      <td>0.0</td>\n",
              "      <td>1.0</td>\n",
              "      <td>1.0</td>\n",
              "      <td>0.0</td>\n",
              "      <td>117.0</td>\n",
              "      <td>56.0</td>\n",
              "      <td>3.8</td>\n",
              "      <td>111.0</td>\n",
              "      <td>2.5</td>\n",
              "      <td>11.2</td>\n",
              "      <td>6700.0</td>\n",
              "      <td>3.9</td>\n",
              "      <td>1.0</td>\n",
              "      <td>0.0</td>\n",
              "      <td>0.0</td>\n",
              "      <td>0.0</td>\n",
              "      <td>1.0</td>\n",
              "      <td>1.0</td>\n",
              "      <td>1</td>\n",
              "    </tr>\n",
              "    <tr>\n",
              "      <th>4</th>\n",
              "      <td>51.0</td>\n",
              "      <td>80.0</td>\n",
              "      <td>1.010</td>\n",
              "      <td>2.0</td>\n",
              "      <td>0.0</td>\n",
              "      <td>0.0</td>\n",
              "      <td>0.0</td>\n",
              "      <td>0.0</td>\n",
              "      <td>0.0</td>\n",
              "      <td>106.0</td>\n",
              "      <td>26.0</td>\n",
              "      <td>1.4</td>\n",
              "      <td>138.0</td>\n",
              "      <td>4.4</td>\n",
              "      <td>11.6</td>\n",
              "      <td>7300.0</td>\n",
              "      <td>4.6</td>\n",
              "      <td>0.0</td>\n",
              "      <td>0.0</td>\n",
              "      <td>0.0</td>\n",
              "      <td>1.0</td>\n",
              "      <td>0.0</td>\n",
              "      <td>0.0</td>\n",
              "      <td>1</td>\n",
              "    </tr>\n",
              "  </tbody>\n",
              "</table>\n",
              "</div>"
            ],
            "text/plain": [
              "    age    bp     sg   al   su  rbc   pc  pcc   ba    bgr    bu   sc    sod  \\\n",
              "0  48.0  80.0  1.020  1.0  0.0  0.0  0.0  0.0  0.0  121.0  36.0  1.2  138.0   \n",
              "1   7.0  50.0  1.020  4.0  0.0  0.0  0.0  0.0  0.0  121.0  18.0  0.8  138.0   \n",
              "2  62.0  80.0  1.010  2.0  3.0  0.0  0.0  0.0  0.0  423.0  53.0  1.8  138.0   \n",
              "3  48.0  70.0  1.005  4.0  0.0  0.0  1.0  1.0  0.0  117.0  56.0  3.8  111.0   \n",
              "4  51.0  80.0  1.010  2.0  0.0  0.0  0.0  0.0  0.0  106.0  26.0  1.4  138.0   \n",
              "\n",
              "   pot  hemo      wc   rc  htn   dm  cad  appet   pe  ane  classification  \n",
              "0  4.4  15.4  7800.0  5.2  1.0  1.0  0.0    1.0  0.0  0.0               1  \n",
              "1  4.4  11.3  6000.0  4.8  0.0  0.0  0.0    1.0  0.0  0.0               1  \n",
              "2  4.4   9.6  7500.0  4.8  0.0  1.0  0.0    0.0  0.0  1.0               1  \n",
              "3  2.5  11.2  6700.0  3.9  1.0  0.0  0.0    0.0  1.0  1.0               1  \n",
              "4  4.4  11.6  7300.0  4.6  0.0  0.0  0.0    1.0  0.0  0.0               1  "
            ]
          },
          "metadata": {},
          "execution_count": 47
        }
      ]
    },
    {
      "cell_type": "code",
      "metadata": {
        "colab": {
          "base_uri": "https://localhost:8080/",
          "height": 352
        },
        "id": "rvqxRecz8ylH",
        "outputId": "799f79a6-736b-4e07-8fc6-6fccb0fc8cdb"
      },
      "source": [
        "# Target feature:\n",
        "sns.countplot(dataset['classification'])"
      ],
      "execution_count": null,
      "outputs": [
        {
          "output_type": "stream",
          "name": "stderr",
          "text": [
            "/usr/local/lib/python3.7/dist-packages/seaborn/_decorators.py:43: FutureWarning: Pass the following variable as a keyword arg: x. From version 0.12, the only valid positional argument will be `data`, and passing other arguments without an explicit keyword will result in an error or misinterpretation.\n",
            "  FutureWarning\n"
          ]
        },
        {
          "output_type": "execute_result",
          "data": {
            "text/plain": [
              "<matplotlib.axes._subplots.AxesSubplot at 0x7f8206586450>"
            ]
          },
          "metadata": {},
          "execution_count": 48
        },
        {
          "output_type": "display_data",
          "data": {
            "image/png": "[encoded data removed]",
            "text/plain": [
              "<Figure size 432x288 with 1 Axes>"
            ]
          },
          "metadata": {
            "needs_background": "light"
          }
        }
      ]
    },
    {
      "cell_type": "code",
      "metadata": {
        "id": "n59ZevGj854t"
      },
      "source": [
        "# Independent and Dependent Feature:\n",
        "X = dataset.iloc[:, :-1]\n",
        "y = dataset.iloc[:, -1]"
      ],
      "execution_count": null,
      "outputs": []
    },
    {
      "cell_type": "code",
      "metadata": {
        "colab": {
          "base_uri": "https://localhost:8080/",
          "height": 203
        },
        "id": "AKxC-3289MDR",
        "outputId": "5a2af84e-213c-4644-c6bf-89815b821a20"
      },
      "source": [
        "X.head()\n"
      ],
      "execution_count": null,
      "outputs": [
        {
          "output_type": "execute_result",
          "data": {
            "text/html": [
              "<div>\n",
              "<style scoped>\n",
              "    .dataframe tbody tr th:only-of-type {\n",
              "        vertical-align: middle;\n",
              "    }\n",
              "\n",
              "    .dataframe tbody tr th {\n",
              "        vertical-align: top;\n",
              "    }\n",
              "\n",
              "    .dataframe thead th {\n",
              "        text-align: right;\n",
              "    }\n",
              "</style>\n",
              "<table border=\"1\" class=\"dataframe\">\n",
              "  <thead>\n",
              "    <tr style=\"text-align: right;\">\n",
              "      <th></th>\n",
              "      <th>age</th>\n",
              "      <th>bp</th>\n",
              "      <th>sg</th>\n",
              "      <th>al</th>\n",
              "      <th>su</th>\n",
              "      <th>rbc</th>\n",
              "      <th>pc</th>\n",
              "      <th>pcc</th>\n",
              "      <th>ba</th>\n",
              "      <th>bgr</th>\n",
              "      <th>bu</th>\n",
              "      <th>sc</th>\n",
              "      <th>sod</th>\n",
              "      <th>pot</th>\n",
              "      <th>hemo</th>\n",
              "      <th>wc</th>\n",
              "      <th>rc</th>\n",
              "      <th>htn</th>\n",
              "      <th>dm</th>\n",
              "      <th>cad</th>\n",
              "      <th>appet</th>\n",
              "      <th>pe</th>\n",
              "      <th>ane</th>\n",
              "    </tr>\n",
              "  </thead>\n",
              "  <tbody>\n",
              "    <tr>\n",
              "      <th>0</th>\n",
              "      <td>48.0</td>\n",
              "      <td>80.0</td>\n",
              "      <td>1.020</td>\n",
              "      <td>1.0</td>\n",
              "      <td>0.0</td>\n",
              "      <td>0.0</td>\n",
              "      <td>0.0</td>\n",
              "      <td>0.0</td>\n",
              "      <td>0.0</td>\n",
              "      <td>121.0</td>\n",
              "      <td>36.0</td>\n",
              "      <td>1.2</td>\n",
              "      <td>138.0</td>\n",
              "      <td>4.4</td>\n",
              "      <td>15.4</td>\n",
              "      <td>7800.0</td>\n",
              "      <td>5.2</td>\n",
              "      <td>1.0</td>\n",
              "      <td>1.0</td>\n",
              "      <td>0.0</td>\n",
              "      <td>1.0</td>\n",
              "      <td>0.0</td>\n",
              "      <td>0.0</td>\n",
              "    </tr>\n",
              "    <tr>\n",
              "      <th>1</th>\n",
              "      <td>7.0</td>\n",
              "      <td>50.0</td>\n",
              "      <td>1.020</td>\n",
              "      <td>4.0</td>\n",
              "      <td>0.0</td>\n",
              "      <td>0.0</td>\n",
              "      <td>0.0</td>\n",
              "      <td>0.0</td>\n",
              "      <td>0.0</td>\n",
              "      <td>121.0</td>\n",
              "      <td>18.0</td>\n",
              "      <td>0.8</td>\n",
              "      <td>138.0</td>\n",
              "      <td>4.4</td>\n",
              "      <td>11.3</td>\n",
              "      <td>6000.0</td>\n",
              "      <td>4.8</td>\n",
              "      <td>0.0</td>\n",
              "      <td>0.0</td>\n",
              "      <td>0.0</td>\n",
              "      <td>1.0</td>\n",
              "      <td>0.0</td>\n",
              "      <td>0.0</td>\n",
              "    </tr>\n",
              "    <tr>\n",
              "      <th>2</th>\n",
              "      <td>62.0</td>\n",
              "      <td>80.0</td>\n",
              "      <td>1.010</td>\n",
              "      <td>2.0</td>\n",
              "      <td>3.0</td>\n",
              "      <td>0.0</td>\n",
              "      <td>0.0</td>\n",
              "      <td>0.0</td>\n",
              "      <td>0.0</td>\n",
              "      <td>423.0</td>\n",
              "      <td>53.0</td>\n",
              "      <td>1.8</td>\n",
              "      <td>138.0</td>\n",
              "      <td>4.4</td>\n",
              "      <td>9.6</td>\n",
              "      <td>7500.0</td>\n",
              "      <td>4.8</td>\n",
              "      <td>0.0</td>\n",
              "      <td>1.0</td>\n",
              "      <td>0.0</td>\n",
              "      <td>0.0</td>\n",
              "      <td>0.0</td>\n",
              "      <td>1.0</td>\n",
              "    </tr>\n",
              "    <tr>\n",
              "      <th>3</th>\n",
              "      <td>48.0</td>\n",
              "      <td>70.0</td>\n",
              "      <td>1.005</td>\n",
              "      <td>4.0</td>\n",
              "      <td>0.0</td>\n",
              "      <td>0.0</td>\n",
              "      <td>1.0</td>\n",
              "      <td>1.0</td>\n",
              "      <td>0.0</td>\n",
              "      <td>117.0</td>\n",
              "      <td>56.0</td>\n",
              "      <td>3.8</td>\n",
              "      <td>111.0</td>\n",
              "      <td>2.5</td>\n",
              "      <td>11.2</td>\n",
              "      <td>6700.0</td>\n",
              "      <td>3.9</td>\n",
              "      <td>1.0</td>\n",
              "      <td>0.0</td>\n",
              "      <td>0.0</td>\n",
              "      <td>0.0</td>\n",
              "      <td>1.0</td>\n",
              "      <td>1.0</td>\n",
              "    </tr>\n",
              "    <tr>\n",
              "      <th>4</th>\n",
              "      <td>51.0</td>\n",
              "      <td>80.0</td>\n",
              "      <td>1.010</td>\n",
              "      <td>2.0</td>\n",
              "      <td>0.0</td>\n",
              "      <td>0.0</td>\n",
              "      <td>0.0</td>\n",
              "      <td>0.0</td>\n",
              "      <td>0.0</td>\n",
              "      <td>106.0</td>\n",
              "      <td>26.0</td>\n",
              "      <td>1.4</td>\n",
              "      <td>138.0</td>\n",
              "      <td>4.4</td>\n",
              "      <td>11.6</td>\n",
              "      <td>7300.0</td>\n",
              "      <td>4.6</td>\n",
              "      <td>0.0</td>\n",
              "      <td>0.0</td>\n",
              "      <td>0.0</td>\n",
              "      <td>1.0</td>\n",
              "      <td>0.0</td>\n",
              "      <td>0.0</td>\n",
              "    </tr>\n",
              "  </tbody>\n",
              "</table>\n",
              "</div>"
            ],
            "text/plain": [
              "    age    bp     sg   al   su  rbc   pc  pcc   ba    bgr    bu   sc    sod  \\\n",
              "0  48.0  80.0  1.020  1.0  0.0  0.0  0.0  0.0  0.0  121.0  36.0  1.2  138.0   \n",
              "1   7.0  50.0  1.020  4.0  0.0  0.0  0.0  0.0  0.0  121.0  18.0  0.8  138.0   \n",
              "2  62.0  80.0  1.010  2.0  3.0  0.0  0.0  0.0  0.0  423.0  53.0  1.8  138.0   \n",
              "3  48.0  70.0  1.005  4.0  0.0  0.0  1.0  1.0  0.0  117.0  56.0  3.8  111.0   \n",
              "4  51.0  80.0  1.010  2.0  0.0  0.0  0.0  0.0  0.0  106.0  26.0  1.4  138.0   \n",
              "\n",
              "   pot  hemo      wc   rc  htn   dm  cad  appet   pe  ane  \n",
              "0  4.4  15.4  7800.0  5.2  1.0  1.0  0.0    1.0  0.0  0.0  \n",
              "1  4.4  11.3  6000.0  4.8  0.0  0.0  0.0    1.0  0.0  0.0  \n",
              "2  4.4   9.6  7500.0  4.8  0.0  1.0  0.0    0.0  0.0  1.0  \n",
              "3  2.5  11.2  6700.0  3.9  1.0  0.0  0.0    0.0  1.0  1.0  \n",
              "4  4.4  11.6  7300.0  4.6  0.0  0.0  0.0    1.0  0.0  0.0  "
            ]
          },
          "metadata": {},
          "execution_count": 50
        }
      ]
    },
    {
      "cell_type": "code",
      "metadata": {
        "colab": {
          "base_uri": "https://localhost:8080/",
          "height": 374
        },
        "id": "Xtn5HkeI9OCw",
        "outputId": "994131fd-dc4c-40e1-ec7f-a74198b9cd93"
      },
      "source": [
        "# Feature Importance:\n",
        "from sklearn.ensemble import ExtraTreesClassifier\n",
        "import matplotlib.pyplot as plt\n",
        "model=ExtraTreesClassifier()\n",
        "model.fit(X,y)\n",
        "\n",
        "plt.figure(figsize=(8,6))\n",
        "ranked_features=pd.Series(model.feature_importances_,index=X.columns)\n",
        "ranked_features.nlargest(24).plot(kind='barh')\n",
        "plt.show()"
      ],
      "execution_count": null,
      "outputs": [
        {
          "output_type": "display_data",
          "data": {
            "image/png": "[encoded data removed]",
            "text/plain": [
              "<Figure size 576x432 with 1 Axes>"
            ]
          },
          "metadata": {
            "needs_background": "light"
          }
        }
      ]
    },
    {
      "cell_type": "markdown",
      "metadata": {
        "id": "dKlkwcLX9Wxj"
      },
      "source": [
        "\n",
        "\n",
        "*   We take top 8 feature only.\n",
        "\n",
        "\n",
        "\n"
      ]
    },
    {
      "cell_type": "code",
      "metadata": {
        "colab": {
          "base_uri": "https://localhost:8080/"
        },
        "id": "u4F9Qp6w92Kt",
        "outputId": "b71205b7-dbd5-4792-e76e-aff44bc108a1"
      },
      "source": [
        "ranked_features.nlargest(8).index\n"
      ],
      "execution_count": null,
      "outputs": [
        {
          "output_type": "execute_result",
          "data": {
            "text/plain": [
              "Index(['sg', 'dm', 'hemo', 'htn', 'al', 'appet', 'rc', 'pc'], dtype='object')"
            ]
          },
          "metadata": {},
          "execution_count": 52
        }
      ]
    },
    {
      "cell_type": "code",
      "metadata": {
        "colab": {
          "base_uri": "https://localhost:8080/",
          "height": 203
        },
        "id": "MPNHVbaH9_7e",
        "outputId": "76c73896-4a5e-493c-f16e-db88a41c25ce"
      },
      "source": [
        "X = dataset[['sg', 'htn', 'hemo', 'dm', 'al', 'appet', 'rc', 'pc']]\n",
        "X.head()"
      ],
      "execution_count": null,
      "outputs": [
        {
          "output_type": "execute_result",
          "data": {
            "text/html": [
              "<div>\n",
              "<style scoped>\n",
              "    .dataframe tbody tr th:only-of-type {\n",
              "        vertical-align: middle;\n",
              "    }\n",
              "\n",
              "    .dataframe tbody tr th {\n",
              "        vertical-align: top;\n",
              "    }\n",
              "\n",
              "    .dataframe thead th {\n",
              "        text-align: right;\n",
              "    }\n",
              "</style>\n",
              "<table border=\"1\" class=\"dataframe\">\n",
              "  <thead>\n",
              "    <tr style=\"text-align: right;\">\n",
              "      <th></th>\n",
              "      <th>sg</th>\n",
              "      <th>htn</th>\n",
              "      <th>hemo</th>\n",
              "      <th>dm</th>\n",
              "      <th>al</th>\n",
              "      <th>appet</th>\n",
              "      <th>rc</th>\n",
              "      <th>pc</th>\n",
              "    </tr>\n",
              "  </thead>\n",
              "  <tbody>\n",
              "    <tr>\n",
              "      <th>0</th>\n",
              "      <td>1.020</td>\n",
              "      <td>1.0</td>\n",
              "      <td>15.4</td>\n",
              "      <td>1.0</td>\n",
              "      <td>1.0</td>\n",
              "      <td>1.0</td>\n",
              "      <td>5.2</td>\n",
              "      <td>0.0</td>\n",
              "    </tr>\n",
              "    <tr>\n",
              "      <th>1</th>\n",
              "      <td>1.020</td>\n",
              "      <td>0.0</td>\n",
              "      <td>11.3</td>\n",
              "      <td>0.0</td>\n",
              "      <td>4.0</td>\n",
              "      <td>1.0</td>\n",
              "      <td>4.8</td>\n",
              "      <td>0.0</td>\n",
              "    </tr>\n",
              "    <tr>\n",
              "      <th>2</th>\n",
              "      <td>1.010</td>\n",
              "      <td>0.0</td>\n",
              "      <td>9.6</td>\n",
              "      <td>1.0</td>\n",
              "      <td>2.0</td>\n",
              "      <td>0.0</td>\n",
              "      <td>4.8</td>\n",
              "      <td>0.0</td>\n",
              "    </tr>\n",
              "    <tr>\n",
              "      <th>3</th>\n",
              "      <td>1.005</td>\n",
              "      <td>1.0</td>\n",
              "      <td>11.2</td>\n",
              "      <td>0.0</td>\n",
              "      <td>4.0</td>\n",
              "      <td>0.0</td>\n",
              "      <td>3.9</td>\n",
              "      <td>1.0</td>\n",
              "    </tr>\n",
              "    <tr>\n",
              "      <th>4</th>\n",
              "      <td>1.010</td>\n",
              "      <td>0.0</td>\n",
              "      <td>11.6</td>\n",
              "      <td>0.0</td>\n",
              "      <td>2.0</td>\n",
              "      <td>1.0</td>\n",
              "      <td>4.6</td>\n",
              "      <td>0.0</td>\n",
              "    </tr>\n",
              "  </tbody>\n",
              "</table>\n",
              "</div>"
            ],
            "text/plain": [
              "      sg  htn  hemo   dm   al  appet   rc   pc\n",
              "0  1.020  1.0  15.4  1.0  1.0    1.0  5.2  0.0\n",
              "1  1.020  0.0  11.3  0.0  4.0    1.0  4.8  0.0\n",
              "2  1.010  0.0   9.6  1.0  2.0    0.0  4.8  0.0\n",
              "3  1.005  1.0  11.2  0.0  4.0    0.0  3.9  1.0\n",
              "4  1.010  0.0  11.6  0.0  2.0    1.0  4.6  0.0"
            ]
          },
          "metadata": {},
          "execution_count": 53
        }
      ]
    },
    {
      "cell_type": "code",
      "metadata": {
        "colab": {
          "base_uri": "https://localhost:8080/",
          "height": 203
        },
        "id": "GmDyTFSl-BA2",
        "outputId": "3a0c8c6c-05f2-4606-ac3e-e023e93af725"
      },
      "source": [
        "X.tail()\n"
      ],
      "execution_count": null,
      "outputs": [
        {
          "output_type": "execute_result",
          "data": {
            "text/html": [
              "<div>\n",
              "<style scoped>\n",
              "    .dataframe tbody tr th:only-of-type {\n",
              "        vertical-align: middle;\n",
              "    }\n",
              "\n",
              "    .dataframe tbody tr th {\n",
              "        vertical-align: top;\n",
              "    }\n",
              "\n",
              "    .dataframe thead th {\n",
              "        text-align: right;\n",
              "    }\n",
              "</style>\n",
              "<table border=\"1\" class=\"dataframe\">\n",
              "  <thead>\n",
              "    <tr style=\"text-align: right;\">\n",
              "      <th></th>\n",
              "      <th>sg</th>\n",
              "      <th>htn</th>\n",
              "      <th>hemo</th>\n",
              "      <th>dm</th>\n",
              "      <th>al</th>\n",
              "      <th>appet</th>\n",
              "      <th>rc</th>\n",
              "      <th>pc</th>\n",
              "    </tr>\n",
              "  </thead>\n",
              "  <tbody>\n",
              "    <tr>\n",
              "      <th>395</th>\n",
              "      <td>1.020</td>\n",
              "      <td>0.0</td>\n",
              "      <td>15.7</td>\n",
              "      <td>0.0</td>\n",
              "      <td>0.0</td>\n",
              "      <td>1.0</td>\n",
              "      <td>4.9</td>\n",
              "      <td>0.0</td>\n",
              "    </tr>\n",
              "    <tr>\n",
              "      <th>396</th>\n",
              "      <td>1.025</td>\n",
              "      <td>0.0</td>\n",
              "      <td>16.5</td>\n",
              "      <td>0.0</td>\n",
              "      <td>0.0</td>\n",
              "      <td>1.0</td>\n",
              "      <td>6.2</td>\n",
              "      <td>0.0</td>\n",
              "    </tr>\n",
              "    <tr>\n",
              "      <th>397</th>\n",
              "      <td>1.020</td>\n",
              "      <td>0.0</td>\n",
              "      <td>15.8</td>\n",
              "      <td>0.0</td>\n",
              "      <td>0.0</td>\n",
              "      <td>1.0</td>\n",
              "      <td>5.4</td>\n",
              "      <td>0.0</td>\n",
              "    </tr>\n",
              "    <tr>\n",
              "      <th>398</th>\n",
              "      <td>1.025</td>\n",
              "      <td>0.0</td>\n",
              "      <td>14.2</td>\n",
              "      <td>0.0</td>\n",
              "      <td>0.0</td>\n",
              "      <td>1.0</td>\n",
              "      <td>5.9</td>\n",
              "      <td>0.0</td>\n",
              "    </tr>\n",
              "    <tr>\n",
              "      <th>399</th>\n",
              "      <td>1.025</td>\n",
              "      <td>0.0</td>\n",
              "      <td>15.8</td>\n",
              "      <td>0.0</td>\n",
              "      <td>0.0</td>\n",
              "      <td>1.0</td>\n",
              "      <td>6.1</td>\n",
              "      <td>0.0</td>\n",
              "    </tr>\n",
              "  </tbody>\n",
              "</table>\n",
              "</div>"
            ],
            "text/plain": [
              "        sg  htn  hemo   dm   al  appet   rc   pc\n",
              "395  1.020  0.0  15.7  0.0  0.0    1.0  4.9  0.0\n",
              "396  1.025  0.0  16.5  0.0  0.0    1.0  6.2  0.0\n",
              "397  1.020  0.0  15.8  0.0  0.0    1.0  5.4  0.0\n",
              "398  1.025  0.0  14.2  0.0  0.0    1.0  5.9  0.0\n",
              "399  1.025  0.0  15.8  0.0  0.0    1.0  6.1  0.0"
            ]
          },
          "metadata": {},
          "execution_count": 54
        }
      ]
    },
    {
      "cell_type": "code",
      "metadata": {
        "colab": {
          "base_uri": "https://localhost:8080/"
        },
        "id": "6S_6HpXY-Dft",
        "outputId": "be24d174-2bb4-4992-ceaf-b3838443a1ad"
      },
      "source": [
        "y.head()\n"
      ],
      "execution_count": null,
      "outputs": [
        {
          "output_type": "execute_result",
          "data": {
            "text/plain": [
              "0    1\n",
              "1    1\n",
              "2    1\n",
              "3    1\n",
              "4    1\n",
              "Name: classification, dtype: int64"
            ]
          },
          "metadata": {},
          "execution_count": 55
        }
      ]
    },
    {
      "cell_type": "code",
      "metadata": {
        "id": "mBaeUHbr-IxU"
      },
      "source": [
        "# Train Test Split:\n",
        "from sklearn.model_selection import train_test_split\n",
        "X_train,X_test,y_train,y_test = train_test_split(X,y, test_size=0.3, random_state=33)"
      ],
      "execution_count": null,
      "outputs": []
    },
    {
      "cell_type": "code",
      "metadata": {
        "colab": {
          "base_uri": "https://localhost:8080/"
        },
        "id": "Dt0n0b7v-LFL",
        "outputId": "a1d4e19a-554d-487b-b46f-ac0705a5f12c"
      },
      "source": [
        "print(X_train.shape)\n",
        "print(X_test.shape)"
      ],
      "execution_count": null,
      "outputs": [
        {
          "output_type": "stream",
          "name": "stdout",
          "text": [
            "(280, 8)\n",
            "(120, 8)\n"
          ]
        }
      ]
    },
    {
      "cell_type": "markdown",
      "metadata": {
        "id": "3LMaFzkMRwnX"
      },
      "source": [
        "# Random Forest Algorithm"
      ]
    },
    {
      "cell_type": "code",
      "metadata": {
        "id": "vdjJpDO1QMJD"
      },
      "source": [
        "# Importing Performance Metrics:\n",
        "from sklearn.metrics import accuracy_score, confusion_matrix, classification_report\n",
        "import seaborn as sns\n",
        "from sklearn.metrics import classification_report\n",
        "from sklearn import metrics"
      ],
      "execution_count": null,
      "outputs": []
    },
    {
      "cell_type": "code",
      "metadata": {
        "id": "-AyI4KS8bew2"
      },
      "source": [
        "# Initialzing empty lists to append all model's name and corresponding name\n",
        "acc = []\n",
        "model = []"
      ],
      "execution_count": null,
      "outputs": []
    },
    {
      "cell_type": "code",
      "metadata": {
        "colab": {
          "base_uri": "https://localhost:8080/"
        },
        "id": "dgg8XLWhQW0V",
        "outputId": "6ed58381-76ea-42a2-bed1-d3108e8ea078"
      },
      "source": [
        "\n",
        "# RandomForestClassifier:\n",
        "from sklearn.ensemble import RandomForestClassifier\n",
        "RandomForest = RandomForestClassifier()\n",
        "RandomForest = RandomForest.fit(X_train,y_train)\n",
        "\n",
        "# Predictions:\n",
        "y_pred = RandomForest.predict(X_test)\n",
        "\n",
        "# Performance:\n",
        "print('Accuracy:', accuracy_score(y_test,y_pred))\n",
        "print(confusion_matrix(y_test,y_pred))\n",
        "print(classification_report(y_test,y_pred))\n",
        "\n",
        "x = metrics.accuracy_score(y_test, y_pred)\n",
        "\n",
        "acc.append(x)\n",
        "model.append('RF')"
      ],
      "execution_count": null,
      "outputs": [
        {
          "output_type": "stream",
          "name": "stdout",
          "text": [
            "Accuracy: 0.975\n",
            "[[55  3]\n",
            " [ 0 62]]\n",
            "              precision    recall  f1-score   support\n",
            "\n",
            "           0       1.00      0.95      0.97        58\n",
            "           1       0.95      1.00      0.98        62\n",
            "\n",
            "    accuracy                           0.97       120\n",
            "   macro avg       0.98      0.97      0.97       120\n",
            "weighted avg       0.98      0.97      0.97       120\n",
            "\n"
          ]
        }
      ]
    },
    {
      "cell_type": "markdown",
      "metadata": {
        "id": "NbkuBpSiR4CT"
      },
      "source": [
        "# AdaBoostClassifier\n"
      ]
    },
    {
      "cell_type": "code",
      "metadata": {
        "colab": {
          "base_uri": "https://localhost:8080/"
        },
        "id": "wt-Z_uDiQaSq",
        "outputId": "50ce5774-6990-4fc5-b285-6279c97c3e01"
      },
      "source": [
        "\n",
        "# AdaBoostClassifier:\n",
        "from sklearn.ensemble import AdaBoostClassifier\n",
        "AdaBoost = AdaBoostClassifier()\n",
        "AdaBoost = AdaBoost.fit(X_train,y_train)\n",
        "\n",
        "# Predictions:\n",
        "y_pred = AdaBoost.predict(X_test)\n",
        "\n",
        "# Performance:\n",
        "print('Accuracy:', accuracy_score(y_test,y_pred))\n",
        "print(confusion_matrix(y_test,y_pred))\n",
        "\n",
        "x = metrics.accuracy_score(y_test, y_pred)\n",
        "\n",
        "acc.append(x)\n",
        "model.append('ADB')"
      ],
      "execution_count": null,
      "outputs": [
        {
          "output_type": "stream",
          "name": "stdout",
          "text": [
            "Accuracy: 0.9666666666666667\n",
            "[[55  3]\n",
            " [ 1 61]]\n"
          ]
        }
      ]
    },
    {
      "cell_type": "markdown",
      "metadata": {
        "id": "1hKcITOER--q"
      },
      "source": [
        "# GradientBoosting"
      ]
    },
    {
      "cell_type": "code",
      "metadata": {
        "colab": {
          "base_uri": "https://localhost:8080/"
        },
        "id": "h1snwczVQjqd",
        "outputId": "ac72f994-0d7c-4307-e940-5818971ed6ce"
      },
      "source": [
        "\n",
        "# GradientBoostingClassifier:\n",
        "from sklearn.ensemble import GradientBoostingClassifier\n",
        "GradientBoost = GradientBoostingClassifier()\n",
        "GradientBoost = GradientBoost.fit(X_train,y_train)\n",
        "\n",
        "# Predictions:\n",
        "y_pred = GradientBoost.predict(X_test)\n",
        "\n",
        "# Performance:\n",
        "print('Accuracy:', accuracy_score(y_test,y_pred))\n",
        "print(confusion_matrix(y_test,y_pred))\n",
        "print(classification_report(y_test,y_pred))\n",
        "\n",
        "x = metrics.accuracy_score(y_test, y_pred)\n",
        "\n",
        "acc.append(x)\n",
        "model.append('GB')"
      ],
      "execution_count": null,
      "outputs": [
        {
          "output_type": "stream",
          "name": "stdout",
          "text": [
            "Accuracy: 0.975\n",
            "[[55  3]\n",
            " [ 0 62]]\n",
            "              precision    recall  f1-score   support\n",
            "\n",
            "           0       1.00      0.95      0.97        58\n",
            "           1       0.95      1.00      0.98        62\n",
            "\n",
            "    accuracy                           0.97       120\n",
            "   macro avg       0.98      0.97      0.97       120\n",
            "weighted avg       0.98      0.97      0.97       120\n",
            "\n"
          ]
        }
      ]
    },
    {
      "cell_type": "markdown",
      "metadata": {
        "id": "Ip-n1dXaSFMD"
      },
      "source": [
        "# Logistic Regression\n"
      ]
    },
    {
      "cell_type": "code",
      "metadata": {
        "colab": {
          "base_uri": "https://localhost:8080/"
        },
        "id": "HddicD4sQocR",
        "outputId": "70f1fee0-b10c-429a-997a-b5b903eeb385"
      },
      "source": [
        "from sklearn.linear_model import LogisticRegression\n",
        "LogisticRegression=LogisticRegression()\n",
        "LogisticRegression=LogisticRegression.fit(X_train,y_train)\n",
        "\n",
        "# Predictions:\n",
        "y_pred = LogisticRegression.predict(X_test)\n",
        "\n",
        "# Performance:\n",
        "print('Accuracy:', accuracy_score(y_test,y_pred))\n",
        "print(confusion_matrix(y_test,y_pred))\n",
        "print(classification_report(y_test,y_pred))\n",
        "\n",
        "x = metrics.accuracy_score(y_test, y_pred)\n",
        "acc.append(x)\n",
        "model.append('LR')"
      ],
      "execution_count": null,
      "outputs": [
        {
          "output_type": "stream",
          "name": "stdout",
          "text": [
            "Accuracy: 0.925\n",
            "[[54  4]\n",
            " [ 5 57]]\n",
            "              precision    recall  f1-score   support\n",
            "\n",
            "           0       0.92      0.93      0.92        58\n",
            "           1       0.93      0.92      0.93        62\n",
            "\n",
            "    accuracy                           0.93       120\n",
            "   macro avg       0.92      0.93      0.92       120\n",
            "weighted avg       0.93      0.93      0.93       120\n",
            "\n"
          ]
        }
      ]
    },
    {
      "cell_type": "markdown",
      "metadata": {
        "id": "VueNGiLxSKWy"
      },
      "source": [
        "# Naive Bayes"
      ]
    },
    {
      "cell_type": "code",
      "metadata": {
        "colab": {
          "base_uri": "https://localhost:8080/"
        },
        "id": "S787-Pf0RfL9",
        "outputId": "1d3e7503-5d96-413e-cff6-8843904c5b5f"
      },
      "source": [
        "from sklearn.naive_bayes import GaussianNB\n",
        "GaussianNB=GaussianNB()\n",
        "GaussianNB=GaussianNB.fit(X_train,y_train)\n",
        "\n",
        "# Predictions:\n",
        "y_pred = GaussianNB.predict(X_test)\n",
        "\n",
        "# Performance:\n",
        "print('Accuracy:', accuracy_score(y_test,y_pred))\n",
        "print(confusion_matrix(y_test,y_pred))\n",
        "print(classification_report(y_test,y_pred))\n",
        "\n",
        "x = metrics.accuracy_score(y_test, y_pred)\n",
        "acc.append(x)\n",
        "model.append('NB')\n"
      ],
      "execution_count": null,
      "outputs": [
        {
          "output_type": "stream",
          "name": "stdout",
          "text": [
            "Accuracy: 0.95\n",
            "[[58  0]\n",
            " [ 6 56]]\n",
            "              precision    recall  f1-score   support\n",
            "\n",
            "           0       0.91      1.00      0.95        58\n",
            "           1       1.00      0.90      0.95        62\n",
            "\n",
            "    accuracy                           0.95       120\n",
            "   macro avg       0.95      0.95      0.95       120\n",
            "weighted avg       0.95      0.95      0.95       120\n",
            "\n"
          ]
        }
      ]
    },
    {
      "cell_type": "markdown",
      "metadata": {
        "id": "Iwlxf4MrS4pA"
      },
      "source": [
        "# KNN\n"
      ]
    },
    {
      "cell_type": "code",
      "metadata": {
        "colab": {
          "base_uri": "https://localhost:8080/"
        },
        "id": "z48_swobTQqZ",
        "outputId": "34b48f84-9c1a-489a-ea9b-dcc9386e9756"
      },
      "source": [
        "from sklearn.neighbors import KNeighborsClassifier\n",
        "knn= KNeighborsClassifier(n_neighbors = 5, metric = 'minkowski', p = 2)\n",
        "knn=knn.fit(X_train, y_train)\n",
        "\n",
        "# Predictions:\n",
        "y_pred = knn.predict(X_test)\n",
        "\n",
        "# Performance:\n",
        "print('Accuracy:', accuracy_score(y_test,y_pred))\n",
        "print(confusion_matrix(y_test,y_pred))\n",
        "print(classification_report(y_test,y_pred))\n",
        "\n",
        "x = metrics.accuracy_score(y_test, y_pred)\n",
        "acc.append(x)\n",
        "model.append('KNN')"
      ],
      "execution_count": null,
      "outputs": [
        {
          "output_type": "stream",
          "name": "stdout",
          "text": [
            "Accuracy: 0.9333333333333333\n",
            "[[55  3]\n",
            " [ 5 57]]\n",
            "              precision    recall  f1-score   support\n",
            "\n",
            "           0       0.92      0.95      0.93        58\n",
            "           1       0.95      0.92      0.93        62\n",
            "\n",
            "    accuracy                           0.93       120\n",
            "   macro avg       0.93      0.93      0.93       120\n",
            "weighted avg       0.93      0.93      0.93       120\n",
            "\n"
          ]
        }
      ]
    },
    {
      "cell_type": "markdown",
      "metadata": {
        "id": "tX8qsJOcTkEb"
      },
      "source": [
        "# Support Vector Machine"
      ]
    },
    {
      "cell_type": "code",
      "metadata": {
        "colab": {
          "base_uri": "https://localhost:8080/"
        },
        "id": "hs5JTdTrTwHM",
        "outputId": "86534df9-41cf-44a1-d179-1481222f7b68"
      },
      "source": [
        "from sklearn.svm import SVC\n",
        "svm= SVC(kernel = 'linear', random_state = 0)\n",
        "svm=svm.fit(X_train, y_train)\n",
        "\n",
        "# Predictions:\n",
        "y_pred = svm.predict(X_test)\n",
        "\n",
        "# Performance:\n",
        "print('Accuracy:', accuracy_score(y_test,y_pred))\n",
        "print(confusion_matrix(y_test,y_pred))\n",
        "print(classification_report(y_test,y_pred))\n",
        "\n",
        "x = metrics.accuracy_score(y_test, y_pred)\n",
        "acc.append(x)\n",
        "model.append('SVM')"
      ],
      "execution_count": null,
      "outputs": [
        {
          "output_type": "stream",
          "name": "stdout",
          "text": [
            "Accuracy: 0.9416666666666667\n",
            "[[55  3]\n",
            " [ 4 58]]\n",
            "              precision    recall  f1-score   support\n",
            "\n",
            "           0       0.93      0.95      0.94        58\n",
            "           1       0.95      0.94      0.94        62\n",
            "\n",
            "    accuracy                           0.94       120\n",
            "   macro avg       0.94      0.94      0.94       120\n",
            "weighted avg       0.94      0.94      0.94       120\n",
            "\n"
          ]
        }
      ]
    },
    {
      "cell_type": "markdown",
      "metadata": {
        "id": "OXflj95YUGVy"
      },
      "source": [
        "# Kernal SVM"
      ]
    },
    {
      "cell_type": "code",
      "metadata": {
        "colab": {
          "base_uri": "https://localhost:8080/"
        },
        "id": "epejcTz4Ucza",
        "outputId": "582a9d77-e42e-4ae9-a81e-5882fd2a6453"
      },
      "source": [
        "from sklearn.svm import SVC\n",
        "ksvm = SVC(kernel = 'rbf', random_state = 0)\n",
        "ksvm=ksvm.fit(X_train, y_train)\n",
        "\n",
        "# Predictions:\n",
        "y_pred = ksvm.predict(X_test)\n",
        "\n",
        "# Performance:\n",
        "print('Accuracy:', accuracy_score(y_test,y_pred))\n",
        "print(confusion_matrix(y_test,y_pred))\n",
        "print(classification_report(y_test,y_pred))\n",
        "\n",
        "x = metrics.accuracy_score(y_test, y_pred)\n",
        "acc.append(x)\n",
        "model.append('kSVM')"
      ],
      "execution_count": null,
      "outputs": [
        {
          "output_type": "stream",
          "name": "stdout",
          "text": [
            "Accuracy: 0.9\n",
            "[[51  7]\n",
            " [ 5 57]]\n",
            "              precision    recall  f1-score   support\n",
            "\n",
            "           0       0.91      0.88      0.89        58\n",
            "           1       0.89      0.92      0.90        62\n",
            "\n",
            "    accuracy                           0.90       120\n",
            "   macro avg       0.90      0.90      0.90       120\n",
            "weighted avg       0.90      0.90      0.90       120\n",
            "\n"
          ]
        }
      ]
    },
    {
      "cell_type": "markdown",
      "metadata": {
        "id": "lQM2GPMLU8nM"
      },
      "source": [
        "# Decision Tree"
      ]
    },
    {
      "cell_type": "code",
      "metadata": {
        "colab": {
          "base_uri": "https://localhost:8080/"
        },
        "id": "08ZPVHn3VBVl",
        "outputId": "672c9af6-a143-4bfe-ab8b-d7fe7d824f61"
      },
      "source": [
        "from sklearn import tree\n",
        "tree=tree.DecisionTreeClassifier()\n",
        "dtree=tree.fit(X_train,y_train)\n",
        "\n",
        "# Predictions:\n",
        "y_pred = dtree.predict(X_test)\n",
        "\n",
        "# Performance:\n",
        "print('Accuracy:', accuracy_score(y_test,y_pred))\n",
        "print(confusion_matrix(y_test,y_pred))\n",
        "print(classification_report(y_test,y_pred))\n",
        "\n",
        "x = metrics.accuracy_score(y_test, y_pred)\n",
        "acc.append(x)\n",
        "model.append('DB')\n"
      ],
      "execution_count": null,
      "outputs": [
        {
          "output_type": "stream",
          "name": "stdout",
          "text": [
            "Accuracy: 0.9916666666666667\n",
            "[[58  0]\n",
            " [ 1 61]]\n",
            "              precision    recall  f1-score   support\n",
            "\n",
            "           0       0.98      1.00      0.99        58\n",
            "           1       1.00      0.98      0.99        62\n",
            "\n",
            "    accuracy                           0.99       120\n",
            "   macro avg       0.99      0.99      0.99       120\n",
            "weighted avg       0.99      0.99      0.99       120\n",
            "\n"
          ]
        }
      ]
    },
    {
      "cell_type": "markdown",
      "metadata": {
        "id": "6SzbUZSOV-ke"
      },
      "source": [
        "# Accuracy Comparison"
      ]
    },
    {
      "cell_type": "code",
      "metadata": {
        "colab": {
          "base_uri": "https://localhost:8080/",
          "height": 498
        },
        "id": "PDaZWwL1aH9A",
        "outputId": "411d3326-e430-4800-cba5-737010e4f0bf"
      },
      "source": [
        "plt.figure(figsize=[10,5],dpi = 100)\n",
        "plt.title('Accuracy Comparison')\n",
        "plt.xlabel('Accuracy')\n",
        "plt.ylabel('Algorithm')\n",
        "sns.barplot(x = acc,y = model,palette='dark')"
      ],
      "execution_count": null,
      "outputs": [
        {
          "output_type": "execute_result",
          "data": {
            "text/plain": [
              "<matplotlib.axes._subplots.AxesSubplot at 0x7f81f74615d0>"
            ]
          },
          "metadata": {},
          "execution_count": 69
        },
        {
          "output_type": "display_data",
          "data": {
            "image/png": "[encoded data removed]",
            "text/plain": [
              "<Figure size 1000x500 with 1 Axes>"
            ]
          },
          "metadata": {
            "needs_background": "light"
          }
        }
      ]
    },
    {
      "cell_type": "code",
      "metadata": {
        "id": "XV66ELaT-ncf"
      },
      "source": [
        "import pickle\n",
        "with open(\"Kidney_model.pkl\",\"wb\") as file:\n",
        "    pickle.dump(dtree,file)"
      ],
      "execution_count": null,
      "outputs": []
    },
    {
      "cell_type": "code",
      "metadata": {
        "id": "R3ZXFx5FcoE1"
      },
      "source": [
        "\n",
        "n_estimators = [int(x) for x in np.linspace(start=100, stop=2000, num=18)]\n",
        "max_features = ['auto', 'sqrt']\n",
        "max_depth = [int(x) for x in np.linspace(5, 30, num=6)]\n",
        "min_samples_split = [2, 5, 10, 15, 20,25]\n",
        "min_samples_leaf = [1, 2, 5, 10,12,15]\n",
        "params = {\n",
        "    'n_estimators': n_estimators,\n",
        "    'max_features': max_features,\n",
        "    'max_depth': max_depth,\n",
        "    'min_samples_leaf': min_samples_split,\n",
        "    'min_samples_leaf': min_samples_leaf\n",
        "}"
      ],
      "execution_count": null,
      "outputs": []
    },
    {
      "cell_type": "code",
      "metadata": {
        "id": "t8Rqr-CqmisZ"
      },
      "source": [
        "from  sklearn.model_selection import RandomizedSearchCV\n",
        "\n",
        "rf = RandomForestClassifier()\n",
        "tuned_model = RandomizedSearchCV(rf, params, \n",
        "                            cv=5, n_iter=20, random_state=43, n_jobs=-1)"
      ],
      "execution_count": null,
      "outputs": []
    },
    {
      "cell_type": "code",
      "metadata": {
        "id": "Ah1NmFhGmxzN",
        "colab": {
          "base_uri": "https://localhost:8080/"
        },
        "outputId": "606374a0-0714-4e8b-a57d-9eb87d4898df"
      },
      "source": [
        "tuned_model.fit(X_train, y_train)\n"
      ],
      "execution_count": null,
      "outputs": [
        {
          "output_type": "execute_result",
          "data": {
            "text/plain": [
              "RandomizedSearchCV(cv=5, error_score=nan,\n",
              "                   estimator=RandomForestClassifier(bootstrap=True,\n",
              "                                                    ccp_alpha=0.0,\n",
              "                                                    class_weight=None,\n",
              "                                                    criterion='gini',\n",
              "                                                    max_depth=None,\n",
              "                                                    max_features='auto',\n",
              "                                                    max_leaf_nodes=None,\n",
              "                                                    max_samples=None,\n",
              "                                                    min_impurity_decrease=0.0,\n",
              "                                                    min_impurity_split=None,\n",
              "                                                    min_samples_leaf=1,\n",
              "                                                    min_samples_split=2,\n",
              "                                                    min_weight_fraction_leaf=0.0,\n",
              "                                                    n_estimators=100,\n",
              "                                                    n_jobs...\n",
              "                   iid='deprecated', n_iter=20, n_jobs=-1,\n",
              "                   param_distributions={'max_depth': [5, 10, 15, 20, 25, 30],\n",
              "                                        'max_features': ['auto', 'sqrt'],\n",
              "                                        'min_samples_leaf': [1, 2, 5, 10, 12,\n",
              "                                                             15],\n",
              "                                        'n_estimators': [100, 211, 323, 435,\n",
              "                                                         547, 658, 770, 882,\n",
              "                                                         994, 1105, 1217, 1329,\n",
              "                                                         1441, 1552, 1664, 1776,\n",
              "                                                         1888, 2000]},\n",
              "                   pre_dispatch='2*n_jobs', random_state=43, refit=True,\n",
              "                   return_train_score=False, scoring=None, verbose=0)"
            ]
          },
          "metadata": {},
          "execution_count": 73
        }
      ]
    },
    {
      "cell_type": "code",
      "metadata": {
        "id": "TzL1-dsNm1g-",
        "colab": {
          "base_uri": "https://localhost:8080/"
        },
        "outputId": "39622d4d-f9c6-4b07-bda5-dc93ea92e832"
      },
      "source": [
        "#Printing Best Parameter during tunning\n",
        "print(tuned_model.best_estimator_)"
      ],
      "execution_count": null,
      "outputs": [
        {
          "output_type": "stream",
          "name": "stdout",
          "text": [
            "RandomForestClassifier(bootstrap=True, ccp_alpha=0.0, class_weight=None,\n",
            "                       criterion='gini', max_depth=15, max_features='auto',\n",
            "                       max_leaf_nodes=None, max_samples=None,\n",
            "                       min_impurity_decrease=0.0, min_impurity_split=None,\n",
            "                       min_samples_leaf=2, min_samples_split=2,\n",
            "                       min_weight_fraction_leaf=0.0, n_estimators=435,\n",
            "                       n_jobs=None, oob_score=False, random_state=None,\n",
            "                       verbose=0, warm_start=False)\n"
          ]
        }
      ]
    },
    {
      "cell_type": "code",
      "metadata": {
        "id": "MRu9ZS67m2fZ",
        "colab": {
          "base_uri": "https://localhost:8080/"
        },
        "outputId": "26bf0874-29c1-4385-db6a-2c72a4406bb5"
      },
      "source": [
        "\n",
        "\n",
        "RF = RandomForestClassifier(bootstrap=True, ccp_alpha=0.0, class_weight=None,\n",
        "                       criterion='gini', max_depth=15, max_features='auto',\n",
        "                       max_leaf_nodes=None, max_samples=None,\n",
        "                       min_impurity_decrease=0.0, min_impurity_split=None,\n",
        "                       min_samples_leaf=2, min_samples_split=2,\n",
        "                       min_weight_fraction_leaf=0.0, n_estimators=435,\n",
        "                       n_jobs=None, oob_score=False, random_state=None,\n",
        "                       verbose=0, warm_start=False)\n",
        "RF = RF.fit(X_train,y_train)\n",
        "\n",
        "# Predictions:\n",
        "y_pred = RandomForest.predict(X_test)\n",
        "\n",
        "# Performance:\n",
        "print('Accuracy:', accuracy_score(y_test,y_pred))\n",
        "print(confusion_matrix(y_test,y_pred))\n",
        "print(classification_report(y_test,y_pred))"
      ],
      "execution_count": null,
      "outputs": [
        {
          "output_type": "stream",
          "name": "stdout",
          "text": [
            "Accuracy: 0.975\n",
            "[[55  3]\n",
            " [ 0 62]]\n",
            "              precision    recall  f1-score   support\n",
            "\n",
            "           0       1.00      0.95      0.97        58\n",
            "           1       0.95      1.00      0.98        62\n",
            "\n",
            "    accuracy                           0.97       120\n",
            "   macro avg       0.98      0.97      0.97       120\n",
            "weighted avg       0.98      0.97      0.97       120\n",
            "\n"
          ]
        }
      ]
    },
    {
      "cell_type": "code",
      "metadata": {
        "id": "gbAOyfyHqubW"
      },
      "source": [
        "import pickle\n",
        "with open(\"tunned_kidney_Cancer_model.pkl\",\"wb\") as file:\n",
        "    pickle.dump(RF,file)"
      ],
      "execution_count": null,
      "outputs": []
    }
  ]
}